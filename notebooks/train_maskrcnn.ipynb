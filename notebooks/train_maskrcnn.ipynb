{
 "cells": [
  {
   "cell_type": "code",
   "execution_count": null,
   "metadata": {},
   "outputs": [],
   "source": [
    "from google.colab import drive\n",
    "drive.mount('/content/drive')"
   ]
  },
  {
   "cell_type": "code",
   "execution_count": null,
   "metadata": {},
   "outputs": [],
   "source": [
    "%cd /content/drive/MyDrive/ProjeDosyalari/Elevate3D/"
   ]
  },
  {
   "cell_type": "code",
   "execution_count": null,
   "metadata": {},
   "outputs": [],
   "source": [
    "!git pull origin main"
   ]
  },
  {
   "cell_type": "code",
   "execution_count": null,
   "metadata": {},
   "outputs": [],
   "source": [
    "import os\n",
    "print(os.getcwd())"
   ]
  },
  {
   "cell_type": "code",
   "execution_count": null,
   "metadata": {},
   "outputs": [],
   "source": [
    "import sys\n",
    "sys.path.append('/content/drive/MyDrive/ProjeDosyalari/Elevate3D/src')\n",
    "sys.path.append('/content/drive/MyDrive/ProjeDosyalari/Elevate3D/src/BATC')"
   ]
  },
  {
   "cell_type": "code",
   "execution_count": null,
   "metadata": {},
   "outputs": [],
   "source": [
    "%cd /content/drive/MyDrive/ProjeDosyalari/Elevate3D\n",
    "!python -m src.BATC.training.train --images_path \"/content/drive/MyDrive/ProjeDosyalari/maskrcnn/experiment_dataset/rgb_tiles\" --masks_path \"/content/drive/MyDrive/ProjeDosyalari/maskrcnn/experiment_dataset/gti_tiles\" --save_path \"/content/drive/MyDrive/ProjeDosyalari\" "
   ]
  }
 ],
 "metadata": {
  "kernelspec": {
   "display_name": "Python 3",
   "language": "python",
   "name": "python3"
  },
  "language_info": {
   "name": "python",
   "version": "3.11.1"
  }
 },
 "nbformat": 4,
 "nbformat_minor": 2
}
