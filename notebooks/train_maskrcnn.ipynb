{
 "cells": [
  {
   "cell_type": "code",
   "execution_count": null,
   "metadata": {},
   "outputs": [],
   "source": [
    "from google.colab import drive\n",
    "drive.mount('/content/drive')"
   ]
  },
  {
   "cell_type": "code",
   "execution_count": null,
   "metadata": {},
   "outputs": [],
   "source": [
    "%cd /content/drive/MyDrive/ProjeDosyalari/Elevate3D/"
   ]
  },
  {
   "cell_type": "code",
   "execution_count": null,
   "metadata": {},
   "outputs": [],
   "source": [
    "!git pull origin main"
   ]
  },
  {
   "cell_type": "code",
   "execution_count": null,
   "metadata": {},
   "outputs": [],
   "source": [
    "import os\n",
    "print(os.getcwd())\n"
   ]
  },
  {
   "cell_type": "code",
   "execution_count": null,
   "metadata": {},
   "outputs": [],
   "source": [
    "import sys\n",
    "sys.path.append('/content/drive/MyDrive/ProjeDosyalari/Elevate3D/src')\n",
    "sys.path.append('/content/drive/MyDrive/ProjeDosyalari/Elevate3D/src/training')"
   ]
  },
  {
   "cell_type": "code",
   "execution_count": null,
   "metadata": {},
   "outputs": [],
   "source": [
    "%cd /content/drive/MyDrive/ProjeDosyalari/Elevate3D\n",
    "!python -m src.BATC.training.train --train_images_dir \"/content/drive/MyDrive/ProjeDosyalari/maskrcnn/train/images\" --train_annotations_dir \"/content/drive/MyDrive/ProjeDosyalari/maskrcnn/train/annotations.json\" --val_images_dir \"/content/drive/MyDrive/ProjeDosyalari/maskrcnn/val/images\" --val_annotations_dir \"/content/drive/MyDrive/ProjeDosyalari/maskrcnn/val/annotations.json\"  "
   ]
  }
 ],
 "metadata": {
  "kernelspec": {
   "display_name": "Python 3",
   "language": "python",
   "name": "python3"
  },
  "language_info": {
   "name": "python",
   "version": "3.11.1"
  }
 },
 "nbformat": 4,
 "nbformat_minor": 2
}
