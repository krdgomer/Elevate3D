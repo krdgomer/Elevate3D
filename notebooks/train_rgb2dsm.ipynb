{
  "cells": [
    {
      "cell_type": "code",
      "execution_count": 1,
      "metadata": {
        "colab": {
          "base_uri": "https://localhost:8080/"
        },
        "id": "oUZvn6O657Qz",
        "outputId": "0b4b21e6-4e89-4816-eae4-66fd4448fde0"
      },
      "outputs": [
        {
          "name": "stdout",
          "output_type": "stream",
          "text": [
            "Mounted at /content/drive\n"
          ]
        }
      ],
      "source": [
        "from google.colab import drive\n",
        "drive.mount('/content/drive')"
      ]
    },
    {
      "cell_type": "code",
      "execution_count": 2,
      "metadata": {
        "colab": {
          "base_uri": "https://localhost:8080/"
        },
        "id": "wRUhPFAIwRIo",
        "outputId": "afa05cc4-e734-4b7c-91db-83a25cb6d2f9"
      },
      "outputs": [
        {
          "name": "stdout",
          "output_type": "stream",
          "text": [
            "/content/drive/MyDrive/ProjeDosyalari/Elevate3D\n"
          ]
        }
      ],
      "source": [
        "%cd /content/drive/MyDrive/ProjeDosyalari/Elevate3D/"
      ]
    },
    {
      "cell_type": "code",
      "execution_count": 3,
      "metadata": {
        "colab": {
          "base_uri": "https://localhost:8080/"
        },
        "id": "DdmlxXAZwRIr",
        "outputId": "d7e20190-507e-4607-890d-563dfe1d5949"
      },
      "outputs": [
        {
          "name": "stdout",
          "output_type": "stream",
          "text": [
            "From https://github.com/krdgomer/Elevate3D\n",
            " * branch            main       -> FETCH_HEAD\n",
            "Already up to date.\n"
          ]
        }
      ],
      "source": [
        "!git pull origin main"
      ]
    },
    {
      "cell_type": "code",
      "execution_count": 4,
      "metadata": {
        "id": "Pbf-hNTRwRIt"
      },
      "outputs": [],
      "source": [
        "import sys\n",
        "sys.path.append('/content/drive/MyDrive/ProjeDosyalari/Elevate3D/src')\n",
        "sys.path.append('/content/drive/MyDrive/ProjeDosyalari/Elevate3D/src/training')"
      ]
    },
    {
      "cell_type": "code",
      "execution_count": 6,
      "metadata": {
        "colab": {
          "base_uri": "https://localhost:8080/",
          "height": 1000
        },
        "id": "6BL7bRNlwRIx",
        "outputId": "18c4afe4-0c26-4f6d-bbbd-fa1fc61bd18d"
      },
      "outputs": [
        {
          "name": "stdout",
          "output_type": "stream",
          "text": [
            "Epoch 1/200\n"
          ]
        },
        {
          "name": "stderr",
          "output_type": "stream",
          "text": [
            "100%|██████████| 379/379 [02:34<00:00,  2.45it/s, D_fake=0.00859, D_real=0.961]\n"
          ]
        },
        {
          "name": "stdout",
          "output_type": "stream",
          "text": [
            "Returned losses - Disc: 0.3214, Gen: 40.1938\n",
            "=> Saving checkpoint\n",
            "=> Saving checkpoint\n",
            "Epoch 2/200\n"
          ]
        },
        {
          "name": "stderr",
          "output_type": "stream",
          "text": [
            "100%|██████████| 379/379 [02:09<00:00,  2.92it/s, D_fake=0.00125, D_real=0.996]\n"
          ]
        },
        {
          "name": "stdout",
          "output_type": "stream",
          "text": [
            "Returned losses - Disc: 0.0723, Gen: 41.4705\n",
            "Epoch 3/200\n"
          ]
        },
        {
          "name": "stderr",
          "output_type": "stream",
          "text": [
            "100%|██████████| 379/379 [02:08<00:00,  2.96it/s, D_fake=0.092, D_real=0.938]\n"
          ]
        },
        {
          "name": "stdout",
          "output_type": "stream",
          "text": [
            "Returned losses - Disc: 0.4629, Gen: 38.0775\n",
            "Epoch 4/200\n"
          ]
        },
        {
          "name": "stderr",
          "output_type": "stream",
          "text": [
            "100%|██████████| 379/379 [02:09<00:00,  2.92it/s, D_fake=0.0634, D_real=0.822]\n"
          ]
        },
        {
          "name": "stdout",
          "output_type": "stream",
          "text": [
            "Returned losses - Disc: 0.4965, Gen: 36.4643\n",
            "Epoch 5/200\n"
          ]
        },
        {
          "name": "stderr",
          "output_type": "stream",
          "text": [
            "100%|██████████| 379/379 [02:09<00:00,  2.93it/s, D_fake=0.0783, D_real=0.865]\n"
          ]
        },
        {
          "name": "stdout",
          "output_type": "stream",
          "text": [
            "Returned losses - Disc: 0.4974, Gen: 33.8507\n",
            "Epoch 6/200\n"
          ]
        },
        {
          "name": "stderr",
          "output_type": "stream",
          "text": [
            "100%|██████████| 379/379 [02:08<00:00,  2.96it/s, D_fake=0.00484, D_real=0.999]\n"
          ]
        },
        {
          "name": "stdout",
          "output_type": "stream",
          "text": [
            "Returned losses - Disc: 0.2615, Gen: 34.9019\n",
            "=> Saving checkpoint\n",
            "=> Saving checkpoint\n",
            "Epoch 7/200\n"
          ]
        },
        {
          "name": "stderr",
          "output_type": "stream",
          "text": [
            "100%|██████████| 379/379 [02:10<00:00,  2.91it/s, D_fake=0.294, D_real=0.881]\n"
          ]
        },
        {
          "name": "stdout",
          "output_type": "stream",
          "text": [
            "Returned losses - Disc: 0.3895, Gen: 32.9591\n",
            "Epoch 8/200\n"
          ]
        },
        {
          "name": "stderr",
          "output_type": "stream",
          "text": [
            "100%|██████████| 379/379 [02:08<00:00,  2.96it/s, D_fake=0.215, D_real=0.77]\n"
          ]
        },
        {
          "name": "stdout",
          "output_type": "stream",
          "text": [
            "Returned losses - Disc: 0.4253, Gen: 32.5020\n",
            "Epoch 9/200\n"
          ]
        },
        {
          "name": "stderr",
          "output_type": "stream",
          "text": [
            "100%|██████████| 379/379 [02:08<00:00,  2.95it/s, D_fake=0.548, D_real=0.331]\n"
          ]
        },
        {
          "name": "stdout",
          "output_type": "stream",
          "text": [
            "Returned losses - Disc: 0.5336, Gen: 31.0738\n",
            "Epoch 10/200\n"
          ]
        },
        {
          "name": "stderr",
          "output_type": "stream",
          "text": [
            "100%|██████████| 379/379 [02:08<00:00,  2.95it/s, D_fake=0.426, D_real=0.524]\n"
          ]
        },
        {
          "name": "stdout",
          "output_type": "stream",
          "text": [
            "Returned losses - Disc: 0.5168, Gen: 30.6944\n",
            "Epoch 11/200\n"
          ]
        },
        {
          "name": "stderr",
          "output_type": "stream",
          "text": [
            "100%|██████████| 379/379 [02:08<00:00,  2.95it/s, D_fake=0.388, D_real=0.399]\n"
          ]
        },
        {
          "name": "stdout",
          "output_type": "stream",
          "text": [
            "Returned losses - Disc: 0.5484, Gen: 29.2741\n",
            "=> Saving checkpoint\n",
            "=> Saving checkpoint\n",
            "Epoch 12/200\n"
          ]
        },
        {
          "name": "stderr",
          "output_type": "stream",
          "text": [
            "100%|██████████| 379/379 [02:09<00:00,  2.93it/s, D_fake=0.213, D_real=0.813]\n"
          ]
        },
        {
          "name": "stdout",
          "output_type": "stream",
          "text": [
            "Returned losses - Disc: 0.4475, Gen: 29.8474\n",
            "Epoch 13/200\n"
          ]
        },
        {
          "name": "stderr",
          "output_type": "stream",
          "text": [
            "100%|██████████| 379/379 [02:09<00:00,  2.93it/s, D_fake=0.377, D_real=0.664]\n"
          ]
        },
        {
          "name": "stdout",
          "output_type": "stream",
          "text": [
            "Returned losses - Disc: 0.5484, Gen: 28.3841\n",
            "Epoch 14/200\n"
          ]
        },
        {
          "name": "stderr",
          "output_type": "stream",
          "text": [
            "100%|██████████| 379/379 [02:08<00:00,  2.95it/s, D_fake=0.284, D_real=0.977]\n"
          ]
        },
        {
          "name": "stdout",
          "output_type": "stream",
          "text": [
            "Returned losses - Disc: 0.5365, Gen: 28.3610\n",
            "Epoch 15/200\n"
          ]
        },
        {
          "name": "stderr",
          "output_type": "stream",
          "text": [
            "100%|██████████| 379/379 [02:08<00:00,  2.95it/s, D_fake=0.397, D_real=0.406]\n"
          ]
        },
        {
          "name": "stdout",
          "output_type": "stream",
          "text": [
            "Returned losses - Disc: 0.4801, Gen: 29.3031\n",
            "Epoch 16/200\n"
          ]
        },
        {
          "name": "stderr",
          "output_type": "stream",
          "text": [
            "100%|██████████| 379/379 [02:08<00:00,  2.95it/s, D_fake=0.21, D_real=0.992]\n"
          ]
        },
        {
          "name": "stdout",
          "output_type": "stream",
          "text": [
            "Returned losses - Disc: 0.5191, Gen: 27.1308\n",
            "=> Saving checkpoint\n",
            "=> Saving checkpoint\n",
            "Epoch 17/200\n"
          ]
        },
        {
          "name": "stderr",
          "output_type": "stream",
          "text": [
            "100%|██████████| 379/379 [02:10<00:00,  2.91it/s, D_fake=0.305, D_real=0.0919]\n"
          ]
        },
        {
          "name": "stdout",
          "output_type": "stream",
          "text": [
            "Returned losses - Disc: 0.5368, Gen: 26.7040\n",
            "Epoch 18/200\n"
          ]
        },
        {
          "name": "stderr",
          "output_type": "stream",
          "text": [
            "100%|██████████| 379/379 [02:07<00:00,  2.96it/s, D_fake=0.195, D_real=0.946]\n"
          ]
        },
        {
          "name": "stdout",
          "output_type": "stream",
          "text": [
            "Returned losses - Disc: 0.5203, Gen: 26.8060\n",
            "Epoch 19/200\n"
          ]
        },
        {
          "name": "stderr",
          "output_type": "stream",
          "text": [
            "100%|██████████| 379/379 [02:07<00:00,  2.97it/s, D_fake=0.437, D_real=0.106]\n"
          ]
        },
        {
          "name": "stdout",
          "output_type": "stream",
          "text": [
            "Returned losses - Disc: 0.5238, Gen: 26.7451\n",
            "Epoch 20/200\n"
          ]
        },
        {
          "name": "stderr",
          "output_type": "stream",
          "text": [
            "100%|██████████| 379/379 [02:08<00:00,  2.95it/s, D_fake=0.271, D_real=0.842]\n"
          ]
        },
        {
          "name": "stdout",
          "output_type": "stream",
          "text": [
            "Returned losses - Disc: 0.5259, Gen: 25.5032\n",
            "Epoch 21/200\n"
          ]
        },
        {
          "name": "stderr",
          "output_type": "stream",
          "text": [
            "100%|██████████| 379/379 [02:07<00:00,  2.96it/s, D_fake=0.188, D_real=0.847]\n"
          ]
        },
        {
          "name": "stdout",
          "output_type": "stream",
          "text": [
            "Returned losses - Disc: 0.5365, Gen: 25.2032\n",
            "=> Saving checkpoint\n",
            "=> Saving checkpoint\n",
            "Epoch 22/200\n"
          ]
        },
        {
          "name": "stderr",
          "output_type": "stream",
          "text": [
            "100%|██████████| 379/379 [02:09<00:00,  2.92it/s, D_fake=0.618, D_real=0.239]\n"
          ]
        },
        {
          "name": "stdout",
          "output_type": "stream",
          "text": [
            "Returned losses - Disc: 0.5399, Gen: 25.3811\n",
            "Epoch 23/200\n"
          ]
        },
        {
          "name": "stderr",
          "output_type": "stream",
          "text": [
            "100%|██████████| 379/379 [02:08<00:00,  2.94it/s, D_fake=0.192, D_real=0.849]\n"
          ]
        },
        {
          "name": "stdout",
          "output_type": "stream",
          "text": [
            "Returned losses - Disc: 0.5377, Gen: 24.6735\n",
            "Epoch 24/200\n"
          ]
        },
        {
          "name": "stderr",
          "output_type": "stream",
          "text": [
            "100%|██████████| 379/379 [02:08<00:00,  2.95it/s, D_fake=0.506, D_real=0.443]\n"
          ]
        },
        {
          "name": "stdout",
          "output_type": "stream",
          "text": [
            "Returned losses - Disc: 0.5425, Gen: 24.3022\n",
            "Epoch 25/200\n"
          ]
        },
        {
          "name": "stderr",
          "output_type": "stream",
          "text": [
            "100%|██████████| 379/379 [02:08<00:00,  2.96it/s, D_fake=0.351, D_real=0.586]\n"
          ]
        },
        {
          "name": "stdout",
          "output_type": "stream",
          "text": [
            "Returned losses - Disc: 0.5309, Gen: 24.3513\n",
            "Epoch 26/200\n"
          ]
        },
        {
          "name": "stderr",
          "output_type": "stream",
          "text": [
            "100%|██████████| 379/379 [02:07<00:00,  2.96it/s, D_fake=0.298, D_real=0.334]\n"
          ]
        },
        {
          "name": "stdout",
          "output_type": "stream",
          "text": [
            "Returned losses - Disc: 0.5457, Gen: 23.6555\n",
            "=> Saving checkpoint\n",
            "=> Saving checkpoint\n",
            "Epoch 27/200\n"
          ]
        },
        {
          "name": "stderr",
          "output_type": "stream",
          "text": [
            "100%|██████████| 379/379 [02:09<00:00,  2.92it/s, D_fake=0.503, D_real=0.583]\n"
          ]
        },
        {
          "name": "stdout",
          "output_type": "stream",
          "text": [
            "Returned losses - Disc: 0.5324, Gen: 23.6653\n",
            "Epoch 28/200\n"
          ]
        },
        {
          "name": "stderr",
          "output_type": "stream",
          "text": [
            "100%|██████████| 379/379 [02:08<00:00,  2.96it/s, D_fake=0.423, D_real=0.457]\n"
          ]
        },
        {
          "name": "stdout",
          "output_type": "stream",
          "text": [
            "Returned losses - Disc: 0.5443, Gen: 23.3879\n",
            "Epoch 29/200\n"
          ]
        },
        {
          "name": "stderr",
          "output_type": "stream",
          "text": [
            "100%|██████████| 379/379 [02:09<00:00,  2.92it/s, D_fake=0.361, D_real=0.436]\n"
          ]
        },
        {
          "name": "stdout",
          "output_type": "stream",
          "text": [
            "Returned losses - Disc: 0.5386, Gen: 23.0758\n",
            "Epoch 30/200\n"
          ]
        },
        {
          "name": "stderr",
          "output_type": "stream",
          "text": [
            "100%|██████████| 379/379 [02:08<00:00,  2.95it/s, D_fake=0.315, D_real=0.347]\n"
          ]
        },
        {
          "name": "stdout",
          "output_type": "stream",
          "text": [
            "Returned losses - Disc: 0.5445, Gen: 22.5714\n",
            "Epoch 31/200\n"
          ]
        },
        {
          "name": "stderr",
          "output_type": "stream",
          "text": [
            "100%|██████████| 379/379 [02:09<00:00,  2.93it/s, D_fake=0.314, D_real=0.701]\n"
          ]
        },
        {
          "name": "stdout",
          "output_type": "stream",
          "text": [
            "Returned losses - Disc: 0.5461, Gen: 21.9244\n",
            "=> Saving checkpoint\n",
            "=> Saving checkpoint\n",
            "Epoch 32/200\n"
          ]
        },
        {
          "name": "stderr",
          "output_type": "stream",
          "text": [
            "100%|██████████| 379/379 [02:10<00:00,  2.91it/s, D_fake=0.4, D_real=0.326]\n"
          ]
        },
        {
          "name": "stdout",
          "output_type": "stream",
          "text": [
            "Returned losses - Disc: 0.5447, Gen: 21.7899\n",
            "Epoch 33/200\n"
          ]
        },
        {
          "name": "stderr",
          "output_type": "stream",
          "text": [
            "100%|██████████| 379/379 [02:09<00:00,  2.92it/s, D_fake=0.568, D_real=0.762]\n"
          ]
        },
        {
          "name": "stdout",
          "output_type": "stream",
          "text": [
            "Returned losses - Disc: 0.5501, Gen: 21.6314\n",
            "Epoch 34/200\n"
          ]
        },
        {
          "name": "stderr",
          "output_type": "stream",
          "text": [
            "100%|██████████| 379/379 [02:08<00:00,  2.94it/s, D_fake=0.496, D_real=0.384]\n"
          ]
        },
        {
          "name": "stdout",
          "output_type": "stream",
          "text": [
            "Returned losses - Disc: 0.5538, Gen: 21.5331\n",
            "Epoch 35/200\n"
          ]
        },
        {
          "name": "stderr",
          "output_type": "stream",
          "text": [
            "100%|██████████| 379/379 [02:10<00:00,  2.90it/s, D_fake=0.282, D_real=0.601]\n"
          ]
        },
        {
          "name": "stdout",
          "output_type": "stream",
          "text": [
            "Returned losses - Disc: 0.5448, Gen: 21.2195\n",
            "Epoch 36/200\n"
          ]
        },
        {
          "name": "stderr",
          "output_type": "stream",
          "text": [
            "100%|██████████| 379/379 [02:09<00:00,  2.93it/s, D_fake=0.263, D_real=0.841]\n"
          ]
        },
        {
          "name": "stdout",
          "output_type": "stream",
          "text": [
            "Returned losses - Disc: 0.5573, Gen: 20.8603\n",
            "=> Saving checkpoint\n",
            "=> Saving checkpoint\n",
            "Epoch 37/200\n"
          ]
        },
        {
          "name": "stderr",
          "output_type": "stream",
          "text": [
            "100%|██████████| 379/379 [02:13<00:00,  2.85it/s, D_fake=0.327, D_real=0.969]\n"
          ]
        },
        {
          "name": "stdout",
          "output_type": "stream",
          "text": [
            "Returned losses - Disc: 0.5609, Gen: 20.2678\n",
            "Epoch 38/200\n"
          ]
        },
        {
          "name": "stderr",
          "output_type": "stream",
          "text": [
            "100%|██████████| 379/379 [02:10<00:00,  2.91it/s, D_fake=0.362, D_real=0.819]\n"
          ]
        },
        {
          "name": "stdout",
          "output_type": "stream",
          "text": [
            "Returned losses - Disc: 0.5575, Gen: 20.3693\n",
            "Epoch 39/200\n"
          ]
        },
        {
          "name": "stderr",
          "output_type": "stream",
          "text": [
            "100%|██████████| 379/379 [02:09<00:00,  2.94it/s, D_fake=0.442, D_real=0.465]\n"
          ]
        },
        {
          "name": "stdout",
          "output_type": "stream",
          "text": [
            "Returned losses - Disc: 0.5622, Gen: 19.8904\n",
            "Epoch 40/200\n"
          ]
        },
        {
          "name": "stderr",
          "output_type": "stream",
          "text": [
            "100%|██████████| 379/379 [02:09<00:00,  2.92it/s, D_fake=0.442, D_real=0.512]\n"
          ]
        },
        {
          "name": "stdout",
          "output_type": "stream",
          "text": [
            "Returned losses - Disc: 0.5593, Gen: 19.7936\n",
            "Epoch 41/200\n"
          ]
        },
        {
          "name": "stderr",
          "output_type": "stream",
          "text": [
            "100%|██████████| 379/379 [02:08<00:00,  2.94it/s, D_fake=0.294, D_real=0.438]\n"
          ]
        },
        {
          "name": "stdout",
          "output_type": "stream",
          "text": [
            "Returned losses - Disc: 0.5661, Gen: 19.4117\n",
            "=> Saving checkpoint\n",
            "=> Saving checkpoint\n",
            "Epoch 42/200\n"
          ]
        },
        {
          "name": "stderr",
          "output_type": "stream",
          "text": [
            "100%|██████████| 379/379 [02:12<00:00,  2.86it/s, D_fake=0.221, D_real=0.657]\n"
          ]
        },
        {
          "name": "stdout",
          "output_type": "stream",
          "text": [
            "Returned losses - Disc: 0.5695, Gen: 19.2089\n",
            "Epoch 43/200\n"
          ]
        },
        {
          "name": "stderr",
          "output_type": "stream",
          "text": [
            "100%|██████████| 379/379 [02:08<00:00,  2.94it/s, D_fake=0.398, D_real=0.829]\n"
          ]
        },
        {
          "name": "stdout",
          "output_type": "stream",
          "text": [
            "Returned losses - Disc: 0.5693, Gen: 18.9057\n",
            "Epoch 44/200\n"
          ]
        },
        {
          "name": "stderr",
          "output_type": "stream",
          "text": [
            "100%|██████████| 379/379 [02:10<00:00,  2.91it/s, D_fake=0.367, D_real=0.991]\n"
          ]
        },
        {
          "name": "stdout",
          "output_type": "stream",
          "text": [
            "Returned losses - Disc: 0.5640, Gen: 18.9169\n",
            "Epoch 45/200\n"
          ]
        },
        {
          "name": "stderr",
          "output_type": "stream",
          "text": [
            "100%|██████████| 379/379 [02:11<00:00,  2.89it/s, D_fake=0.338, D_real=0.468]\n"
          ]
        },
        {
          "name": "stdout",
          "output_type": "stream",
          "text": [
            "Returned losses - Disc: 0.5635, Gen: 18.6675\n",
            "Epoch 46/200\n"
          ]
        },
        {
          "name": "stderr",
          "output_type": "stream",
          "text": [
            "100%|██████████| 379/379 [02:08<00:00,  2.95it/s, D_fake=0.425, D_real=0.164]\n"
          ]
        },
        {
          "name": "stdout",
          "output_type": "stream",
          "text": [
            "Returned losses - Disc: 0.5656, Gen: 18.6097\n",
            "=> Saving checkpoint\n",
            "=> Saving checkpoint\n",
            "Epoch 47/200\n"
          ]
        },
        {
          "name": "stderr",
          "output_type": "stream",
          "text": [
            "100%|██████████| 379/379 [02:12<00:00,  2.85it/s, D_fake=0.111, D_real=0.713]\n"
          ]
        },
        {
          "name": "stdout",
          "output_type": "stream",
          "text": [
            "Returned losses - Disc: 0.5766, Gen: 18.1530\n",
            "Epoch 48/200\n"
          ]
        },
        {
          "name": "stderr",
          "output_type": "stream",
          "text": [
            "100%|██████████| 379/379 [02:08<00:00,  2.94it/s, D_fake=0.411, D_real=0.504]\n"
          ]
        },
        {
          "name": "stdout",
          "output_type": "stream",
          "text": [
            "Returned losses - Disc: 0.5704, Gen: 18.0584\n",
            "Epoch 49/200\n"
          ]
        },
        {
          "name": "stderr",
          "output_type": "stream",
          "text": [
            "100%|██████████| 379/379 [02:10<00:00,  2.91it/s, D_fake=0.474, D_real=0.5]\n"
          ]
        },
        {
          "name": "stdout",
          "output_type": "stream",
          "text": [
            "Returned losses - Disc: 0.5732, Gen: 17.8660\n",
            "Epoch 50/200\n"
          ]
        },
        {
          "name": "stderr",
          "output_type": "stream",
          "text": [
            "100%|██████████| 379/379 [02:08<00:00,  2.95it/s, D_fake=0.413, D_real=0.545]\n"
          ]
        },
        {
          "name": "stdout",
          "output_type": "stream",
          "text": [
            "Returned losses - Disc: 0.5776, Gen: 18.1490\n",
            "Epoch 51/200\n"
          ]
        },
        {
          "name": "stderr",
          "output_type": "stream",
          "text": [
            "100%|██████████| 379/379 [02:09<00:00,  2.93it/s, D_fake=0.388, D_real=0.839]\n"
          ]
        },
        {
          "name": "stdout",
          "output_type": "stream",
          "text": [
            "Returned losses - Disc: 0.5690, Gen: 17.6926\n",
            "=> Saving checkpoint\n",
            "=> Saving checkpoint\n",
            "Epoch 52/200\n"
          ]
        },
        {
          "name": "stderr",
          "output_type": "stream",
          "text": [
            "100%|██████████| 379/379 [02:12<00:00,  2.87it/s, D_fake=0.368, D_real=0.626]\n"
          ]
        },
        {
          "name": "stdout",
          "output_type": "stream",
          "text": [
            "Returned losses - Disc: 0.5768, Gen: 17.5301\n",
            "Epoch 53/200\n"
          ]
        },
        {
          "name": "stderr",
          "output_type": "stream",
          "text": [
            "100%|██████████| 379/379 [02:08<00:00,  2.94it/s, D_fake=0.423, D_real=0.488]\n"
          ]
        },
        {
          "name": "stdout",
          "output_type": "stream",
          "text": [
            "Returned losses - Disc: 0.5836, Gen: 16.9839\n",
            "Epoch 54/200\n"
          ]
        },
        {
          "name": "stderr",
          "output_type": "stream",
          "text": [
            "100%|██████████| 379/379 [02:08<00:00,  2.95it/s, D_fake=0.29, D_real=0.498]\n"
          ]
        },
        {
          "name": "stdout",
          "output_type": "stream",
          "text": [
            "Returned losses - Disc: 0.5814, Gen: 17.0222\n",
            "Epoch 55/200\n"
          ]
        },
        {
          "name": "stderr",
          "output_type": "stream",
          "text": [
            "100%|██████████| 379/379 [02:09<00:00,  2.93it/s, D_fake=0.224, D_real=0.526]\n"
          ]
        },
        {
          "name": "stdout",
          "output_type": "stream",
          "text": [
            "Returned losses - Disc: 0.5788, Gen: 16.7507\n",
            "Epoch 56/200\n"
          ]
        },
        {
          "name": "stderr",
          "output_type": "stream",
          "text": [
            "100%|██████████| 379/379 [02:10<00:00,  2.91it/s, D_fake=0.48, D_real=0.48]\n"
          ]
        },
        {
          "name": "stdout",
          "output_type": "stream",
          "text": [
            "Returned losses - Disc: 0.5831, Gen: 16.8519\n",
            "=> Saving checkpoint\n",
            "=> Saving checkpoint\n",
            "Epoch 57/200\n"
          ]
        },
        {
          "name": "stderr",
          "output_type": "stream",
          "text": [
            "100%|██████████| 379/379 [02:11<00:00,  2.89it/s, D_fake=0.313, D_real=0.413]\n"
          ]
        },
        {
          "name": "stdout",
          "output_type": "stream",
          "text": [
            "Returned losses - Disc: 0.5878, Gen: 17.2995\n",
            "Epoch 58/200\n"
          ]
        },
        {
          "name": "stderr",
          "output_type": "stream",
          "text": [
            "100%|██████████| 379/379 [02:10<00:00,  2.91it/s, D_fake=0.349, D_real=0.514]\n"
          ]
        },
        {
          "name": "stdout",
          "output_type": "stream",
          "text": [
            "Returned losses - Disc: 0.5805, Gen: 16.8895\n",
            "Epoch 59/200\n"
          ]
        },
        {
          "name": "stderr",
          "output_type": "stream",
          "text": [
            "100%|██████████| 379/379 [02:10<00:00,  2.90it/s, D_fake=0.47, D_real=0.231]\n"
          ]
        },
        {
          "name": "stdout",
          "output_type": "stream",
          "text": [
            "Returned losses - Disc: 0.5902, Gen: 16.4310\n",
            "Epoch 60/200\n"
          ]
        },
        {
          "name": "stderr",
          "output_type": "stream",
          "text": [
            "100%|██████████| 379/379 [02:08<00:00,  2.96it/s, D_fake=0.446, D_real=0.792]\n"
          ]
        },
        {
          "name": "stdout",
          "output_type": "stream",
          "text": [
            "Returned losses - Disc: 0.5795, Gen: 16.3400\n",
            "Epoch 61/200\n"
          ]
        },
        {
          "name": "stderr",
          "output_type": "stream",
          "text": [
            "100%|██████████| 379/379 [02:08<00:00,  2.94it/s, D_fake=0.388, D_real=0.722]\n"
          ]
        },
        {
          "name": "stdout",
          "output_type": "stream",
          "text": [
            "Returned losses - Disc: 0.5865, Gen: 16.2336\n",
            "=> Saving checkpoint\n",
            "=> Saving checkpoint\n",
            "Epoch 62/200\n"
          ]
        },
        {
          "name": "stderr",
          "output_type": "stream",
          "text": [
            "100%|██████████| 379/379 [02:10<00:00,  2.90it/s, D_fake=0.392, D_real=0.835]\n"
          ]
        },
        {
          "name": "stdout",
          "output_type": "stream",
          "text": [
            "Returned losses - Disc: 0.5825, Gen: 15.9662\n",
            "Epoch 63/200\n"
          ]
        },
        {
          "name": "stderr",
          "output_type": "stream",
          "text": [
            "100%|██████████| 379/379 [02:09<00:00,  2.94it/s, D_fake=0.375, D_real=0.878]\n"
          ]
        },
        {
          "name": "stdout",
          "output_type": "stream",
          "text": [
            "Returned losses - Disc: 0.5948, Gen: 15.8125\n",
            "Epoch 64/200\n"
          ]
        },
        {
          "name": "stderr",
          "output_type": "stream",
          "text": [
            "100%|██████████| 379/379 [02:09<00:00,  2.93it/s, D_fake=0.323, D_real=0.735]\n"
          ]
        },
        {
          "name": "stdout",
          "output_type": "stream",
          "text": [
            "Returned losses - Disc: 0.5865, Gen: 15.8685\n",
            "Epoch 65/200\n"
          ]
        },
        {
          "name": "stderr",
          "output_type": "stream",
          "text": [
            "100%|██████████| 379/379 [02:07<00:00,  2.96it/s, D_fake=0.44, D_real=0.857]\n"
          ]
        },
        {
          "name": "stdout",
          "output_type": "stream",
          "text": [
            "Returned losses - Disc: 0.5908, Gen: 15.7860\n",
            "Epoch 66/200\n"
          ]
        },
        {
          "name": "stderr",
          "output_type": "stream",
          "text": [
            "100%|██████████| 379/379 [02:09<00:00,  2.93it/s, D_fake=0.474, D_real=0.585]\n"
          ]
        },
        {
          "name": "stdout",
          "output_type": "stream",
          "text": [
            "Returned losses - Disc: 0.5871, Gen: 15.7389\n",
            "=> Saving checkpoint\n",
            "=> Saving checkpoint\n",
            "Epoch 67/200\n"
          ]
        },
        {
          "name": "stderr",
          "output_type": "stream",
          "text": [
            "100%|██████████| 379/379 [02:09<00:00,  2.92it/s, D_fake=0.327, D_real=0.841]\n"
          ]
        },
        {
          "name": "stdout",
          "output_type": "stream",
          "text": [
            "Returned losses - Disc: 0.5903, Gen: 15.4724\n",
            "Epoch 68/200\n"
          ]
        },
        {
          "name": "stderr",
          "output_type": "stream",
          "text": [
            "100%|██████████| 379/379 [02:10<00:00,  2.91it/s, D_fake=0.257, D_real=0.714]\n"
          ]
        },
        {
          "name": "stdout",
          "output_type": "stream",
          "text": [
            "Returned losses - Disc: 0.5900, Gen: 15.5265\n",
            "Epoch 69/200\n"
          ]
        },
        {
          "name": "stderr",
          "output_type": "stream",
          "text": [
            "100%|██████████| 379/379 [02:09<00:00,  2.92it/s, D_fake=0.288, D_real=0.752]\n"
          ]
        },
        {
          "name": "stdout",
          "output_type": "stream",
          "text": [
            "Returned losses - Disc: 0.5901, Gen: 15.2857\n",
            "Epoch 70/200\n"
          ]
        },
        {
          "name": "stderr",
          "output_type": "stream",
          "text": [
            "100%|██████████| 379/379 [02:08<00:00,  2.95it/s, D_fake=0.344, D_real=0.814]\n"
          ]
        },
        {
          "name": "stdout",
          "output_type": "stream",
          "text": [
            "Returned losses - Disc: 0.5914, Gen: 15.2075\n",
            "Epoch 71/200\n"
          ]
        },
        {
          "name": "stderr",
          "output_type": "stream",
          "text": [
            "100%|██████████| 379/379 [02:09<00:00,  2.92it/s, D_fake=0.505, D_real=0.57]\n"
          ]
        },
        {
          "name": "stdout",
          "output_type": "stream",
          "text": [
            "Returned losses - Disc: 0.5892, Gen: 15.0802\n",
            "=> Saving checkpoint\n",
            "=> Saving checkpoint\n",
            "Epoch 72/200\n"
          ]
        },
        {
          "name": "stderr",
          "output_type": "stream",
          "text": [
            "100%|██████████| 379/379 [02:12<00:00,  2.86it/s, D_fake=0.405, D_real=0.592]\n"
          ]
        },
        {
          "name": "stdout",
          "output_type": "stream",
          "text": [
            "Returned losses - Disc: 0.5893, Gen: 15.1552\n",
            "Epoch 73/200\n"
          ]
        },
        {
          "name": "stderr",
          "output_type": "stream",
          "text": [
            "100%|██████████| 379/379 [02:08<00:00,  2.95it/s, D_fake=0.468, D_real=0.876]\n"
          ]
        },
        {
          "name": "stdout",
          "output_type": "stream",
          "text": [
            "Returned losses - Disc: 0.5872, Gen: 15.3022\n",
            "Epoch 74/200\n"
          ]
        },
        {
          "name": "stderr",
          "output_type": "stream",
          "text": [
            "100%|██████████| 379/379 [02:09<00:00,  2.93it/s, D_fake=0.33, D_real=0.413]\n"
          ]
        },
        {
          "name": "stdout",
          "output_type": "stream",
          "text": [
            "Returned losses - Disc: 0.5902, Gen: 14.9427\n",
            "Epoch 75/200\n"
          ]
        },
        {
          "name": "stderr",
          "output_type": "stream",
          "text": [
            "100%|██████████| 379/379 [02:08<00:00,  2.95it/s, D_fake=0.282, D_real=0.519]\n"
          ]
        },
        {
          "name": "stdout",
          "output_type": "stream",
          "text": [
            "Returned losses - Disc: 0.5936, Gen: 14.8888\n",
            "Epoch 76/200\n"
          ]
        },
        {
          "name": "stderr",
          "output_type": "stream",
          "text": [
            "100%|██████████| 379/379 [02:09<00:00,  2.93it/s, D_fake=0.303, D_real=0.759]\n"
          ]
        },
        {
          "name": "stdout",
          "output_type": "stream",
          "text": [
            "Returned losses - Disc: 0.5952, Gen: 14.7187\n",
            "=> Saving checkpoint\n",
            "=> Saving checkpoint\n",
            "Epoch 77/200\n"
          ]
        },
        {
          "name": "stderr",
          "output_type": "stream",
          "text": [
            "100%|██████████| 379/379 [02:11<00:00,  2.88it/s, D_fake=0.442, D_real=0.507]\n"
          ]
        },
        {
          "name": "stdout",
          "output_type": "stream",
          "text": [
            "Returned losses - Disc: 0.5956, Gen: 14.4706\n",
            "Epoch 78/200\n"
          ]
        },
        {
          "name": "stderr",
          "output_type": "stream",
          "text": [
            "100%|██████████| 379/379 [02:07<00:00,  2.97it/s, D_fake=0.292, D_real=0.776]\n"
          ]
        },
        {
          "name": "stdout",
          "output_type": "stream",
          "text": [
            "Returned losses - Disc: 0.5899, Gen: 14.3842\n",
            "Epoch 79/200\n"
          ]
        },
        {
          "name": "stderr",
          "output_type": "stream",
          "text": [
            "100%|██████████| 379/379 [02:09<00:00,  2.94it/s, D_fake=0.447, D_real=0.889]\n"
          ]
        },
        {
          "name": "stdout",
          "output_type": "stream",
          "text": [
            "Returned losses - Disc: 0.5951, Gen: 14.2651\n",
            "Epoch 80/200\n"
          ]
        },
        {
          "name": "stderr",
          "output_type": "stream",
          "text": [
            "100%|██████████| 379/379 [02:08<00:00,  2.95it/s, D_fake=0.428, D_real=0.621]\n"
          ]
        },
        {
          "name": "stdout",
          "output_type": "stream",
          "text": [
            "Returned losses - Disc: 0.5927, Gen: 14.2380\n",
            "Epoch 81/200\n"
          ]
        },
        {
          "name": "stderr",
          "output_type": "stream",
          "text": [
            "100%|██████████| 379/379 [02:08<00:00,  2.95it/s, D_fake=0.29, D_real=0.81]\n"
          ]
        },
        {
          "name": "stdout",
          "output_type": "stream",
          "text": [
            "Returned losses - Disc: 0.5922, Gen: 14.1094\n",
            "=> Saving checkpoint\n",
            "=> Saving checkpoint\n",
            "Epoch 82/200\n"
          ]
        },
        {
          "name": "stderr",
          "output_type": "stream",
          "text": [
            "100%|██████████| 379/379 [02:11<00:00,  2.89it/s, D_fake=0.237, D_real=0.961]\n"
          ]
        },
        {
          "name": "stdout",
          "output_type": "stream",
          "text": [
            "Returned losses - Disc: 0.6004, Gen: 14.0749\n",
            "Epoch 83/200\n"
          ]
        },
        {
          "name": "stderr",
          "output_type": "stream",
          "text": [
            "100%|██████████| 379/379 [02:09<00:00,  2.92it/s, D_fake=0.395, D_real=0.692]\n"
          ]
        },
        {
          "name": "stdout",
          "output_type": "stream",
          "text": [
            "Returned losses - Disc: 0.5920, Gen: 14.1045\n",
            "Epoch 84/200\n"
          ]
        },
        {
          "name": "stderr",
          "output_type": "stream",
          "text": [
            "100%|██████████| 379/379 [02:08<00:00,  2.95it/s, D_fake=0.301, D_real=0.915]\n"
          ]
        },
        {
          "name": "stdout",
          "output_type": "stream",
          "text": [
            "Returned losses - Disc: 0.5901, Gen: 14.1211\n",
            "Epoch 85/200\n"
          ]
        },
        {
          "name": "stderr",
          "output_type": "stream",
          "text": [
            "100%|██████████| 379/379 [02:10<00:00,  2.91it/s, D_fake=0.465, D_real=0.531]\n"
          ]
        },
        {
          "name": "stdout",
          "output_type": "stream",
          "text": [
            "Returned losses - Disc: 0.5953, Gen: 14.0128\n",
            "Epoch 86/200\n"
          ]
        },
        {
          "name": "stderr",
          "output_type": "stream",
          "text": [
            "100%|██████████| 379/379 [02:08<00:00,  2.96it/s, D_fake=0.438, D_real=0.585]\n"
          ]
        },
        {
          "name": "stdout",
          "output_type": "stream",
          "text": [
            "Returned losses - Disc: 0.5918, Gen: 13.8219\n",
            "=> Saving checkpoint\n",
            "=> Saving checkpoint\n",
            "Epoch 87/200\n"
          ]
        },
        {
          "name": "stderr",
          "output_type": "stream",
          "text": [
            "100%|██████████| 379/379 [02:11<00:00,  2.89it/s, D_fake=0.333, D_real=0.287]\n"
          ]
        },
        {
          "name": "stdout",
          "output_type": "stream",
          "text": [
            "Returned losses - Disc: 0.5896, Gen: 13.8447\n",
            "Epoch 88/200\n"
          ]
        },
        {
          "name": "stderr",
          "output_type": "stream",
          "text": [
            "100%|██████████| 379/379 [02:10<00:00,  2.91it/s, D_fake=0.363, D_real=0.729]\n"
          ]
        },
        {
          "name": "stdout",
          "output_type": "stream",
          "text": [
            "Returned losses - Disc: 0.5978, Gen: 13.6541\n",
            "Epoch 89/200\n"
          ]
        },
        {
          "name": "stderr",
          "output_type": "stream",
          "text": [
            "100%|██████████| 379/379 [02:08<00:00,  2.94it/s, D_fake=0.412, D_real=0.798]\n"
          ]
        },
        {
          "name": "stdout",
          "output_type": "stream",
          "text": [
            "Returned losses - Disc: 0.5939, Gen: 13.5767\n",
            "Epoch 90/200\n"
          ]
        },
        {
          "name": "stderr",
          "output_type": "stream",
          "text": [
            "100%|██████████| 379/379 [02:09<00:00,  2.92it/s, D_fake=0.371, D_real=0.227]\n"
          ]
        },
        {
          "name": "stdout",
          "output_type": "stream",
          "text": [
            "Returned losses - Disc: 0.5924, Gen: 13.5014\n",
            "Epoch 91/200\n"
          ]
        },
        {
          "name": "stderr",
          "output_type": "stream",
          "text": [
            "100%|██████████| 379/379 [02:09<00:00,  2.93it/s, D_fake=0.307, D_real=0.78]\n"
          ]
        },
        {
          "name": "stdout",
          "output_type": "stream",
          "text": [
            "Returned losses - Disc: 0.5944, Gen: 13.4590\n",
            "=> Saving checkpoint\n",
            "=> Saving checkpoint\n",
            "Epoch 92/200\n"
          ]
        },
        {
          "name": "stderr",
          "output_type": "stream",
          "text": [
            "100%|██████████| 379/379 [02:10<00:00,  2.89it/s, D_fake=0.416, D_real=0.384]\n"
          ]
        },
        {
          "name": "stdout",
          "output_type": "stream",
          "text": [
            "Returned losses - Disc: 0.5938, Gen: 13.4142\n",
            "Epoch 93/200\n"
          ]
        },
        {
          "name": "stderr",
          "output_type": "stream",
          "text": [
            "100%|██████████| 379/379 [02:09<00:00,  2.93it/s, D_fake=0.344, D_real=0.611]\n"
          ]
        },
        {
          "name": "stdout",
          "output_type": "stream",
          "text": [
            "Returned losses - Disc: 0.5911, Gen: 13.2945\n",
            "Epoch 94/200\n"
          ]
        },
        {
          "name": "stderr",
          "output_type": "stream",
          "text": [
            "100%|██████████| 379/379 [02:09<00:00,  2.93it/s, D_fake=0.411, D_real=0.57]\n"
          ]
        },
        {
          "name": "stdout",
          "output_type": "stream",
          "text": [
            "Returned losses - Disc: 0.5942, Gen: 13.2093\n",
            "Epoch 95/200\n"
          ]
        },
        {
          "name": "stderr",
          "output_type": "stream",
          "text": [
            "100%|██████████| 379/379 [02:08<00:00,  2.95it/s, D_fake=0.507, D_real=0.415]\n"
          ]
        },
        {
          "name": "stdout",
          "output_type": "stream",
          "text": [
            "Returned losses - Disc: 0.5955, Gen: 12.9941\n",
            "Epoch 96/200\n"
          ]
        },
        {
          "name": "stderr",
          "output_type": "stream",
          "text": [
            "100%|██████████| 379/379 [02:10<00:00,  2.91it/s, D_fake=0.539, D_real=0.396]\n"
          ]
        },
        {
          "name": "stdout",
          "output_type": "stream",
          "text": [
            "Returned losses - Disc: 0.5927, Gen: 13.1084\n",
            "=> Saving checkpoint\n",
            "=> Saving checkpoint\n",
            "Epoch 97/200\n"
          ]
        },
        {
          "name": "stderr",
          "output_type": "stream",
          "text": [
            "100%|██████████| 379/379 [02:12<00:00,  2.86it/s, D_fake=0.462, D_real=0.579]\n"
          ]
        },
        {
          "name": "stdout",
          "output_type": "stream",
          "text": [
            "Returned losses - Disc: 0.5929, Gen: 12.8803\n",
            "Epoch 98/200\n"
          ]
        },
        {
          "name": "stderr",
          "output_type": "stream",
          "text": [
            "100%|██████████| 379/379 [02:09<00:00,  2.92it/s, D_fake=0.444, D_real=0.638]\n"
          ]
        },
        {
          "name": "stdout",
          "output_type": "stream",
          "text": [
            "Returned losses - Disc: 0.5922, Gen: 13.0970\n",
            "Epoch 99/200\n"
          ]
        },
        {
          "name": "stderr",
          "output_type": "stream",
          "text": [
            "100%|██████████| 379/379 [02:08<00:00,  2.94it/s, D_fake=0.512, D_real=0.341]\n"
          ]
        },
        {
          "name": "stdout",
          "output_type": "stream",
          "text": [
            "Returned losses - Disc: 0.5902, Gen: 12.8909\n",
            "Epoch 100/200\n"
          ]
        },
        {
          "name": "stderr",
          "output_type": "stream",
          "text": [
            "100%|██████████| 379/379 [02:09<00:00,  2.93it/s, D_fake=0.443, D_real=0.382]\n"
          ]
        },
        {
          "name": "stdout",
          "output_type": "stream",
          "text": [
            "Returned losses - Disc: 0.5914, Gen: 12.8042\n",
            "Epoch 101/200\n"
          ]
        },
        {
          "name": "stderr",
          "output_type": "stream",
          "text": [
            "100%|██████████| 379/379 [02:10<00:00,  2.91it/s, D_fake=0.401, D_real=0.648]\n"
          ]
        },
        {
          "name": "stdout",
          "output_type": "stream",
          "text": [
            "Returned losses - Disc: 0.5884, Gen: 12.8638\n",
            "=> Saving checkpoint\n",
            "=> Saving checkpoint\n",
            "Epoch 102/200\n"
          ]
        },
        {
          "name": "stderr",
          "output_type": "stream",
          "text": [
            "100%|██████████| 379/379 [02:10<00:00,  2.90it/s, D_fake=0.295, D_real=0.902]\n"
          ]
        },
        {
          "name": "stdout",
          "output_type": "stream",
          "text": [
            "Returned losses - Disc: 0.5938, Gen: 12.6992\n",
            "Epoch 103/200\n"
          ]
        },
        {
          "name": "stderr",
          "output_type": "stream",
          "text": [
            "100%|██████████| 379/379 [02:09<00:00,  2.92it/s, D_fake=0.234, D_real=0.889]\n"
          ]
        },
        {
          "name": "stdout",
          "output_type": "stream",
          "text": [
            "Returned losses - Disc: 0.5880, Gen: 12.7054\n",
            "Epoch 104/200\n"
          ]
        },
        {
          "name": "stderr",
          "output_type": "stream",
          "text": [
            "100%|██████████| 379/379 [02:09<00:00,  2.93it/s, D_fake=0.394, D_real=0.599]\n"
          ]
        },
        {
          "name": "stdout",
          "output_type": "stream",
          "text": [
            "Returned losses - Disc: 0.5836, Gen: 13.0368\n",
            "Epoch 105/200\n"
          ]
        },
        {
          "name": "stderr",
          "output_type": "stream",
          "text": [
            "100%|██████████| 379/379 [02:08<00:00,  2.94it/s, D_fake=0.281, D_real=0.699]\n"
          ]
        },
        {
          "name": "stdout",
          "output_type": "stream",
          "text": [
            "Returned losses - Disc: 0.5866, Gen: 12.5920\n",
            "Epoch 106/200\n"
          ]
        },
        {
          "name": "stderr",
          "output_type": "stream",
          "text": [
            "100%|██████████| 379/379 [02:09<00:00,  2.93it/s, D_fake=0.375, D_real=0.44]\n"
          ]
        },
        {
          "name": "stdout",
          "output_type": "stream",
          "text": [
            "Returned losses - Disc: 0.5862, Gen: 12.6075\n",
            "=> Saving checkpoint\n",
            "=> Saving checkpoint\n",
            "Epoch 107/200\n"
          ]
        },
        {
          "name": "stderr",
          "output_type": "stream",
          "text": [
            "100%|██████████| 379/379 [02:12<00:00,  2.85it/s, D_fake=0.264, D_real=0.701]\n"
          ]
        },
        {
          "name": "stdout",
          "output_type": "stream",
          "text": [
            "Returned losses - Disc: 0.5908, Gen: 12.3635\n",
            "Epoch 108/200\n"
          ]
        },
        {
          "name": "stderr",
          "output_type": "stream",
          "text": [
            "100%|██████████| 379/379 [02:10<00:00,  2.90it/s, D_fake=0.316, D_real=0.339]\n"
          ]
        },
        {
          "name": "stdout",
          "output_type": "stream",
          "text": [
            "Returned losses - Disc: 0.5903, Gen: 12.2621\n",
            "Epoch 109/200\n"
          ]
        },
        {
          "name": "stderr",
          "output_type": "stream",
          "text": [
            "100%|██████████| 379/379 [02:10<00:00,  2.90it/s, D_fake=0.323, D_real=0.806]\n"
          ]
        },
        {
          "name": "stdout",
          "output_type": "stream",
          "text": [
            "Returned losses - Disc: 0.5866, Gen: 12.1533\n",
            "Epoch 110/200\n"
          ]
        },
        {
          "name": "stderr",
          "output_type": "stream",
          "text": [
            "100%|██████████| 379/379 [02:08<00:00,  2.95it/s, D_fake=0.324, D_real=0.826]\n"
          ]
        },
        {
          "name": "stdout",
          "output_type": "stream",
          "text": [
            "Returned losses - Disc: 0.5878, Gen: 12.2573\n",
            "Epoch 111/200\n"
          ]
        },
        {
          "name": "stderr",
          "output_type": "stream",
          "text": [
            "100%|██████████| 379/379 [02:10<00:00,  2.91it/s, D_fake=0.355, D_real=0.738]\n"
          ]
        },
        {
          "name": "stdout",
          "output_type": "stream",
          "text": [
            "Returned losses - Disc: 0.5853, Gen: 12.1869\n",
            "=> Saving checkpoint\n",
            "=> Saving checkpoint\n",
            "Epoch 112/200\n"
          ]
        },
        {
          "name": "stderr",
          "output_type": "stream",
          "text": [
            "100%|██████████| 379/379 [02:13<00:00,  2.85it/s, D_fake=0.406, D_real=0.654]\n"
          ]
        },
        {
          "name": "stdout",
          "output_type": "stream",
          "text": [
            "Returned losses - Disc: 0.5806, Gen: 12.2994\n",
            "Epoch 113/200\n"
          ]
        },
        {
          "name": "stderr",
          "output_type": "stream",
          "text": [
            "100%|██████████| 379/379 [02:07<00:00,  2.97it/s, D_fake=0.382, D_real=0.618]\n"
          ]
        },
        {
          "name": "stdout",
          "output_type": "stream",
          "text": [
            "Returned losses - Disc: 0.5817, Gen: 12.1865\n",
            "Epoch 114/200\n"
          ]
        },
        {
          "name": "stderr",
          "output_type": "stream",
          "text": [
            "100%|██████████| 379/379 [02:09<00:00,  2.93it/s, D_fake=0.334, D_real=0.761]\n"
          ]
        },
        {
          "name": "stdout",
          "output_type": "stream",
          "text": [
            "Returned losses - Disc: 0.5755, Gen: 11.9990\n",
            "Epoch 115/200\n"
          ]
        },
        {
          "name": "stderr",
          "output_type": "stream",
          "text": [
            "100%|██████████| 379/379 [02:09<00:00,  2.93it/s, D_fake=0.318, D_real=0.499]\n"
          ]
        },
        {
          "name": "stdout",
          "output_type": "stream",
          "text": [
            "Returned losses - Disc: 0.5840, Gen: 12.0104\n",
            "Epoch 116/200\n"
          ]
        },
        {
          "name": "stderr",
          "output_type": "stream",
          "text": [
            "100%|██████████| 379/379 [02:10<00:00,  2.91it/s, D_fake=0.285, D_real=0.428]\n"
          ]
        },
        {
          "name": "stdout",
          "output_type": "stream",
          "text": [
            "Returned losses - Disc: 0.5758, Gen: 11.9331\n",
            "=> Saving checkpoint\n",
            "=> Saving checkpoint\n",
            "Epoch 117/200\n"
          ]
        },
        {
          "name": "stderr",
          "output_type": "stream",
          "text": [
            "100%|██████████| 379/379 [02:12<00:00,  2.87it/s, D_fake=0.26, D_real=0.797]\n"
          ]
        },
        {
          "name": "stdout",
          "output_type": "stream",
          "text": [
            "Returned losses - Disc: 0.5754, Gen: 11.9494\n",
            "Epoch 118/200\n"
          ]
        },
        {
          "name": "stderr",
          "output_type": "stream",
          "text": [
            "100%|██████████| 379/379 [02:08<00:00,  2.96it/s, D_fake=0.227, D_real=0.698]\n"
          ]
        },
        {
          "name": "stdout",
          "output_type": "stream",
          "text": [
            "Returned losses - Disc: 0.5742, Gen: 11.6341\n",
            "Epoch 119/200\n"
          ]
        },
        {
          "name": "stderr",
          "output_type": "stream",
          "text": [
            "100%|██████████| 379/379 [02:09<00:00,  2.93it/s, D_fake=0.206, D_real=0.786]\n"
          ]
        },
        {
          "name": "stdout",
          "output_type": "stream",
          "text": [
            "Returned losses - Disc: 0.5734, Gen: 11.7210\n",
            "Epoch 120/200\n"
          ]
        },
        {
          "name": "stderr",
          "output_type": "stream",
          "text": [
            "100%|██████████| 379/379 [02:09<00:00,  2.93it/s, D_fake=0.261, D_real=0.76]\n"
          ]
        },
        {
          "name": "stdout",
          "output_type": "stream",
          "text": [
            "Returned losses - Disc: 0.5699, Gen: 11.8353\n",
            "Epoch 121/200\n"
          ]
        },
        {
          "name": "stderr",
          "output_type": "stream",
          "text": [
            "100%|██████████| 379/379 [02:09<00:00,  2.92it/s, D_fake=0.344, D_real=0.691]\n"
          ]
        },
        {
          "name": "stdout",
          "output_type": "stream",
          "text": [
            "Returned losses - Disc: 0.5719, Gen: 11.6544\n",
            "=> Saving checkpoint\n",
            "=> Saving checkpoint\n",
            "Epoch 122/200\n"
          ]
        },
        {
          "name": "stderr",
          "output_type": "stream",
          "text": [
            "100%|██████████| 379/379 [02:10<00:00,  2.90it/s, D_fake=0.255, D_real=0.858]\n"
          ]
        },
        {
          "name": "stdout",
          "output_type": "stream",
          "text": [
            "Returned losses - Disc: 0.5746, Gen: 11.5979\n",
            "Epoch 123/200\n"
          ]
        },
        {
          "name": "stderr",
          "output_type": "stream",
          "text": [
            "100%|██████████| 379/379 [02:10<00:00,  2.90it/s, D_fake=0.381, D_real=0.652]\n"
          ]
        },
        {
          "name": "stdout",
          "output_type": "stream",
          "text": [
            "Returned losses - Disc: 0.5703, Gen: 11.5388\n",
            "Epoch 124/200\n"
          ]
        },
        {
          "name": "stderr",
          "output_type": "stream",
          "text": [
            "100%|██████████| 379/379 [02:09<00:00,  2.93it/s, D_fake=0.27, D_real=0.47]\n"
          ]
        },
        {
          "name": "stdout",
          "output_type": "stream",
          "text": [
            "Returned losses - Disc: 0.5723, Gen: 11.4941\n",
            "Epoch 125/200\n"
          ]
        },
        {
          "name": "stderr",
          "output_type": "stream",
          "text": [
            "100%|██████████| 379/379 [02:10<00:00,  2.91it/s, D_fake=0.411, D_real=0.522]\n"
          ]
        },
        {
          "name": "stdout",
          "output_type": "stream",
          "text": [
            "Returned losses - Disc: 0.5694, Gen: 11.6600\n",
            "Epoch 126/200\n"
          ]
        },
        {
          "name": "stderr",
          "output_type": "stream",
          "text": [
            "100%|██████████| 379/379 [02:09<00:00,  2.92it/s, D_fake=0.361, D_real=0.464]\n"
          ]
        },
        {
          "name": "stdout",
          "output_type": "stream",
          "text": [
            "Returned losses - Disc: 0.5588, Gen: 11.5253\n",
            "=> Saving checkpoint\n",
            "=> Saving checkpoint\n",
            "Epoch 127/200\n"
          ]
        },
        {
          "name": "stderr",
          "output_type": "stream",
          "text": [
            "100%|██████████| 379/379 [02:10<00:00,  2.90it/s, D_fake=0.357, D_real=0.591]\n"
          ]
        },
        {
          "name": "stdout",
          "output_type": "stream",
          "text": [
            "Returned losses - Disc: 0.5659, Gen: 11.4190\n",
            "Epoch 128/200\n"
          ]
        },
        {
          "name": "stderr",
          "output_type": "stream",
          "text": [
            "100%|██████████| 379/379 [02:10<00:00,  2.91it/s, D_fake=0.368, D_real=0.573]\n"
          ]
        },
        {
          "name": "stdout",
          "output_type": "stream",
          "text": [
            "Returned losses - Disc: 0.5661, Gen: 11.3459\n",
            "Epoch 129/200\n"
          ]
        },
        {
          "name": "stderr",
          "output_type": "stream",
          "text": [
            "100%|██████████| 379/379 [02:10<00:00,  2.91it/s, D_fake=0.341, D_real=0.58]\n"
          ]
        },
        {
          "name": "stdout",
          "output_type": "stream",
          "text": [
            "Returned losses - Disc: 0.5643, Gen: 11.2573\n",
            "Epoch 130/200\n"
          ]
        },
        {
          "name": "stderr",
          "output_type": "stream",
          "text": [
            "100%|██████████| 379/379 [02:10<00:00,  2.91it/s, D_fake=0.374, D_real=0.572]\n"
          ]
        },
        {
          "name": "stdout",
          "output_type": "stream",
          "text": [
            "Returned losses - Disc: 0.5642, Gen: 11.3020\n",
            "Epoch 131/200\n"
          ]
        },
        {
          "name": "stderr",
          "output_type": "stream",
          "text": [
            "100%|██████████| 379/379 [02:08<00:00,  2.94it/s, D_fake=0.465, D_real=0.629]\n"
          ]
        },
        {
          "name": "stdout",
          "output_type": "stream",
          "text": [
            "Returned losses - Disc: 0.5642, Gen: 11.2138\n",
            "=> Saving checkpoint\n",
            "=> Saving checkpoint\n",
            "Epoch 132/200\n"
          ]
        },
        {
          "name": "stderr",
          "output_type": "stream",
          "text": [
            "100%|██████████| 379/379 [02:11<00:00,  2.89it/s, D_fake=0.389, D_real=0.759]\n"
          ]
        },
        {
          "name": "stdout",
          "output_type": "stream",
          "text": [
            "Returned losses - Disc: 0.5595, Gen: 11.2974\n",
            "Epoch 133/200\n"
          ]
        },
        {
          "name": "stderr",
          "output_type": "stream",
          "text": [
            "100%|██████████| 379/379 [02:10<00:00,  2.90it/s, D_fake=0.356, D_real=0.59]\n"
          ]
        },
        {
          "name": "stdout",
          "output_type": "stream",
          "text": [
            "Returned losses - Disc: 0.5658, Gen: 11.1162\n",
            "Epoch 134/200\n"
          ]
        },
        {
          "name": "stderr",
          "output_type": "stream",
          "text": [
            "100%|██████████| 379/379 [02:10<00:00,  2.90it/s, D_fake=0.279, D_real=0.642]\n"
          ]
        },
        {
          "name": "stdout",
          "output_type": "stream",
          "text": [
            "Returned losses - Disc: 0.5464, Gen: 11.2759\n",
            "Epoch 135/200\n"
          ]
        },
        {
          "name": "stderr",
          "output_type": "stream",
          "text": [
            "100%|██████████| 379/379 [02:10<00:00,  2.90it/s, D_fake=0.232, D_real=0.742]\n"
          ]
        },
        {
          "name": "stdout",
          "output_type": "stream",
          "text": [
            "Returned losses - Disc: 0.5377, Gen: 11.4731\n",
            "Epoch 136/200\n"
          ]
        },
        {
          "name": "stderr",
          "output_type": "stream",
          "text": [
            "100%|██████████| 379/379 [02:10<00:00,  2.91it/s, D_fake=0.432, D_real=0.397]\n"
          ]
        },
        {
          "name": "stdout",
          "output_type": "stream",
          "text": [
            "Returned losses - Disc: 0.5578, Gen: 11.0339\n",
            "=> Saving checkpoint\n",
            "=> Saving checkpoint\n",
            "Epoch 137/200\n"
          ]
        },
        {
          "name": "stderr",
          "output_type": "stream",
          "text": [
            "100%|██████████| 379/379 [02:10<00:00,  2.89it/s, D_fake=0.245, D_real=0.767]\n"
          ]
        },
        {
          "name": "stdout",
          "output_type": "stream",
          "text": [
            "Returned losses - Disc: 0.5531, Gen: 11.1489\n",
            "Epoch 138/200\n"
          ]
        },
        {
          "name": "stderr",
          "output_type": "stream",
          "text": [
            "100%|██████████| 379/379 [02:09<00:00,  2.92it/s, D_fake=0.344, D_real=0.693]\n"
          ]
        },
        {
          "name": "stdout",
          "output_type": "stream",
          "text": [
            "Returned losses - Disc: 0.5611, Gen: 10.8715\n",
            "Epoch 139/200\n"
          ]
        },
        {
          "name": "stderr",
          "output_type": "stream",
          "text": [
            "100%|██████████| 379/379 [02:09<00:00,  2.92it/s, D_fake=0.238, D_real=0.836]\n"
          ]
        },
        {
          "name": "stdout",
          "output_type": "stream",
          "text": [
            "Returned losses - Disc: 0.5480, Gen: 11.0000\n",
            "Epoch 140/200\n"
          ]
        },
        {
          "name": "stderr",
          "output_type": "stream",
          "text": [
            "100%|██████████| 379/379 [02:10<00:00,  2.91it/s, D_fake=0.276, D_real=0.476]\n"
          ]
        },
        {
          "name": "stdout",
          "output_type": "stream",
          "text": [
            "Returned losses - Disc: 0.5519, Gen: 10.8799\n",
            "Epoch 141/200\n"
          ]
        },
        {
          "name": "stderr",
          "output_type": "stream",
          "text": [
            "100%|██████████| 379/379 [02:09<00:00,  2.92it/s, D_fake=0.335, D_real=0.614]\n"
          ]
        },
        {
          "name": "stdout",
          "output_type": "stream",
          "text": [
            "Returned losses - Disc: 0.5442, Gen: 10.9829\n",
            "=> Saving checkpoint\n",
            "=> Saving checkpoint\n",
            "Epoch 142/200\n"
          ]
        },
        {
          "name": "stderr",
          "output_type": "stream",
          "text": [
            "100%|██████████| 379/379 [02:11<00:00,  2.88it/s, D_fake=0.381, D_real=0.676]\n"
          ]
        },
        {
          "name": "stdout",
          "output_type": "stream",
          "text": [
            "Returned losses - Disc: 0.5546, Gen: 10.9279\n",
            "Epoch 143/200\n"
          ]
        },
        {
          "name": "stderr",
          "output_type": "stream",
          "text": [
            "100%|██████████| 379/379 [02:09<00:00,  2.93it/s, D_fake=0.395, D_real=0.589]\n"
          ]
        },
        {
          "name": "stdout",
          "output_type": "stream",
          "text": [
            "Returned losses - Disc: 0.5451, Gen: 10.8671\n",
            "Epoch 144/200\n"
          ]
        },
        {
          "name": "stderr",
          "output_type": "stream",
          "text": [
            "100%|██████████| 379/379 [02:11<00:00,  2.89it/s, D_fake=0.263, D_real=0.555]\n"
          ]
        },
        {
          "name": "stdout",
          "output_type": "stream",
          "text": [
            "Returned losses - Disc: 0.5378, Gen: 10.8222\n",
            "Epoch 145/200\n"
          ]
        },
        {
          "name": "stderr",
          "output_type": "stream",
          "text": [
            "100%|██████████| 379/379 [02:10<00:00,  2.91it/s, D_fake=0.352, D_real=0.427]\n"
          ]
        },
        {
          "name": "stdout",
          "output_type": "stream",
          "text": [
            "Returned losses - Disc: 0.5498, Gen: 10.7479\n",
            "Epoch 146/200\n"
          ]
        },
        {
          "name": "stderr",
          "output_type": "stream",
          "text": [
            "100%|██████████| 379/379 [02:09<00:00,  2.92it/s, D_fake=0.42, D_real=0.572]\n"
          ]
        },
        {
          "name": "stdout",
          "output_type": "stream",
          "text": [
            "Returned losses - Disc: 0.5561, Gen: 10.6681\n",
            "=> Saving checkpoint\n",
            "=> Saving checkpoint\n",
            "Epoch 147/200\n"
          ]
        },
        {
          "name": "stderr",
          "output_type": "stream",
          "text": [
            "100%|██████████| 379/379 [02:12<00:00,  2.86it/s, D_fake=0.285, D_real=0.575]\n"
          ]
        },
        {
          "name": "stdout",
          "output_type": "stream",
          "text": [
            "Returned losses - Disc: 0.5423, Gen: 10.7027\n",
            "Epoch 148/200\n"
          ]
        },
        {
          "name": "stderr",
          "output_type": "stream",
          "text": [
            "100%|██████████| 379/379 [02:11<00:00,  2.89it/s, D_fake=0.258, D_real=0.542]\n"
          ]
        },
        {
          "name": "stdout",
          "output_type": "stream",
          "text": [
            "Returned losses - Disc: 0.5424, Gen: 10.7085\n",
            "Epoch 149/200\n"
          ]
        },
        {
          "name": "stderr",
          "output_type": "stream",
          "text": [
            "100%|██████████| 379/379 [02:09<00:00,  2.92it/s, D_fake=0.335, D_real=0.52]\n"
          ]
        },
        {
          "name": "stdout",
          "output_type": "stream",
          "text": [
            "Returned losses - Disc: 0.5099, Gen: 11.7275\n",
            "Epoch 150/200\n"
          ]
        },
        {
          "name": "stderr",
          "output_type": "stream",
          "text": [
            "100%|██████████| 379/379 [02:09<00:00,  2.92it/s, D_fake=0.457, D_real=0.488]\n"
          ]
        },
        {
          "name": "stdout",
          "output_type": "stream",
          "text": [
            "Returned losses - Disc: 0.5405, Gen: 10.8008\n",
            "Epoch 151/200\n"
          ]
        },
        {
          "name": "stderr",
          "output_type": "stream",
          "text": [
            "100%|██████████| 379/379 [02:09<00:00,  2.92it/s, D_fake=0.426, D_real=0.558]\n"
          ]
        },
        {
          "name": "stdout",
          "output_type": "stream",
          "text": [
            "Returned losses - Disc: 0.5344, Gen: 10.6039\n",
            "=> Saving checkpoint\n",
            "=> Saving checkpoint\n",
            "Epoch 152/200\n"
          ]
        },
        {
          "name": "stderr",
          "output_type": "stream",
          "text": [
            "100%|██████████| 379/379 [02:13<00:00,  2.83it/s, D_fake=0.388, D_real=0.34]\n"
          ]
        },
        {
          "name": "stdout",
          "output_type": "stream",
          "text": [
            "Returned losses - Disc: 0.5412, Gen: 10.5484\n",
            "Epoch 153/200\n"
          ]
        },
        {
          "name": "stderr",
          "output_type": "stream",
          "text": [
            "100%|██████████| 379/379 [02:09<00:00,  2.93it/s, D_fake=0.222, D_real=0.848]\n"
          ]
        },
        {
          "name": "stdout",
          "output_type": "stream",
          "text": [
            "Returned losses - Disc: 0.5385, Gen: 10.5938\n",
            "Epoch 154/200\n"
          ]
        },
        {
          "name": "stderr",
          "output_type": "stream",
          "text": [
            "100%|██████████| 379/379 [02:11<00:00,  2.89it/s, D_fake=0.25, D_real=0.735]\n"
          ]
        },
        {
          "name": "stdout",
          "output_type": "stream",
          "text": [
            "Returned losses - Disc: 0.5192, Gen: 10.7997\n",
            "Epoch 155/200\n"
          ]
        },
        {
          "name": "stderr",
          "output_type": "stream",
          "text": [
            "100%|██████████| 379/379 [02:10<00:00,  2.90it/s, D_fake=0.188, D_real=0.265]\n"
          ]
        },
        {
          "name": "stdout",
          "output_type": "stream",
          "text": [
            "Returned losses - Disc: 0.5388, Gen: 10.4951\n",
            "Epoch 156/200\n"
          ]
        },
        {
          "name": "stderr",
          "output_type": "stream",
          "text": [
            "100%|██████████| 379/379 [02:10<00:00,  2.91it/s, D_fake=0.343, D_real=0.43]\n"
          ]
        },
        {
          "name": "stdout",
          "output_type": "stream",
          "text": [
            "Returned losses - Disc: 0.5255, Gen: 10.6502\n",
            "=> Saving checkpoint\n",
            "=> Saving checkpoint\n",
            "Epoch 157/200\n"
          ]
        },
        {
          "name": "stderr",
          "output_type": "stream",
          "text": [
            "100%|██████████| 379/379 [02:12<00:00,  2.86it/s, D_fake=0.228, D_real=0.682]\n"
          ]
        },
        {
          "name": "stdout",
          "output_type": "stream",
          "text": [
            "Returned losses - Disc: 0.5285, Gen: 10.5447\n",
            "Epoch 158/200\n"
          ]
        },
        {
          "name": "stderr",
          "output_type": "stream",
          "text": [
            "100%|██████████| 379/379 [02:10<00:00,  2.91it/s, D_fake=0.389, D_real=0.548]\n"
          ]
        },
        {
          "name": "stdout",
          "output_type": "stream",
          "text": [
            "Returned losses - Disc: 0.5054, Gen: 10.6589\n",
            "Epoch 159/200\n"
          ]
        },
        {
          "name": "stderr",
          "output_type": "stream",
          "text": [
            "100%|██████████| 379/379 [02:08<00:00,  2.94it/s, D_fake=0.372, D_real=0.464]\n"
          ]
        },
        {
          "name": "stdout",
          "output_type": "stream",
          "text": [
            "Returned losses - Disc: 0.5095, Gen: 10.6373\n",
            "Epoch 160/200\n"
          ]
        },
        {
          "name": "stderr",
          "output_type": "stream",
          "text": [
            "100%|██████████| 379/379 [02:10<00:00,  2.90it/s, D_fake=0.288, D_real=0.615]\n"
          ]
        },
        {
          "name": "stdout",
          "output_type": "stream",
          "text": [
            "Returned losses - Disc: 0.5302, Gen: 10.5689\n",
            "Epoch 161/200\n"
          ]
        },
        {
          "name": "stderr",
          "output_type": "stream",
          "text": [
            "100%|██████████| 379/379 [02:10<00:00,  2.90it/s, D_fake=0.253, D_real=0.746]\n"
          ]
        },
        {
          "name": "stdout",
          "output_type": "stream",
          "text": [
            "Returned losses - Disc: 0.4968, Gen: 10.6268\n",
            "=> Saving checkpoint\n",
            "=> Saving checkpoint\n",
            "Epoch 162/200\n"
          ]
        },
        {
          "name": "stderr",
          "output_type": "stream",
          "text": [
            "100%|██████████| 379/379 [02:14<00:00,  2.83it/s, D_fake=0.211, D_real=0.879]\n"
          ]
        },
        {
          "name": "stdout",
          "output_type": "stream",
          "text": [
            "Returned losses - Disc: 0.5113, Gen: 10.6690\n",
            "Epoch 163/200\n"
          ]
        },
        {
          "name": "stderr",
          "output_type": "stream",
          "text": [
            "100%|██████████| 379/379 [02:10<00:00,  2.90it/s, D_fake=0.201, D_real=0.761]\n"
          ]
        },
        {
          "name": "stdout",
          "output_type": "stream",
          "text": [
            "Returned losses - Disc: 0.4972, Gen: 10.5790\n",
            "Epoch 164/200\n"
          ]
        },
        {
          "name": "stderr",
          "output_type": "stream",
          "text": [
            "100%|██████████| 379/379 [02:10<00:00,  2.90it/s, D_fake=0.172, D_real=0.792]\n"
          ]
        },
        {
          "name": "stdout",
          "output_type": "stream",
          "text": [
            "Returned losses - Disc: 0.5035, Gen: 10.5674\n",
            "Epoch 165/200\n"
          ]
        },
        {
          "name": "stderr",
          "output_type": "stream",
          "text": [
            "100%|██████████| 379/379 [02:10<00:00,  2.91it/s, D_fake=0.417, D_real=0.64]\n"
          ]
        },
        {
          "name": "stdout",
          "output_type": "stream",
          "text": [
            "Returned losses - Disc: 0.4962, Gen: 10.6202\n",
            "Epoch 166/200\n"
          ]
        },
        {
          "name": "stderr",
          "output_type": "stream",
          "text": [
            "100%|██████████| 379/379 [02:11<00:00,  2.88it/s, D_fake=0.397, D_real=0.608]\n"
          ]
        },
        {
          "name": "stdout",
          "output_type": "stream",
          "text": [
            "Returned losses - Disc: 0.5013, Gen: 10.6224\n",
            "=> Saving checkpoint\n",
            "=> Saving checkpoint\n",
            "Epoch 167/200\n"
          ]
        },
        {
          "name": "stderr",
          "output_type": "stream",
          "text": [
            "100%|██████████| 379/379 [02:13<00:00,  2.85it/s, D_fake=0.279, D_real=0.426]\n"
          ]
        },
        {
          "name": "stdout",
          "output_type": "stream",
          "text": [
            "Returned losses - Disc: 0.4981, Gen: 10.6037\n",
            "Epoch 168/200\n"
          ]
        },
        {
          "name": "stderr",
          "output_type": "stream",
          "text": [
            "100%|██████████| 379/379 [02:09<00:00,  2.92it/s, D_fake=0.457, D_real=0.672]\n"
          ]
        },
        {
          "name": "stdout",
          "output_type": "stream",
          "text": [
            "Returned losses - Disc: 0.5160, Gen: 10.6016\n",
            "Epoch 169/200\n"
          ]
        },
        {
          "name": "stderr",
          "output_type": "stream",
          "text": [
            "100%|██████████| 379/379 [02:10<00:00,  2.90it/s, D_fake=0.158, D_real=0.93]\n"
          ]
        },
        {
          "name": "stdout",
          "output_type": "stream",
          "text": [
            "Returned losses - Disc: 0.4872, Gen: 10.4373\n",
            "Epoch 170/200\n"
          ]
        },
        {
          "name": "stderr",
          "output_type": "stream",
          "text": [
            "100%|██████████| 379/379 [02:10<00:00,  2.91it/s, D_fake=0.33, D_real=0.453]\n"
          ]
        },
        {
          "name": "stdout",
          "output_type": "stream",
          "text": [
            "Returned losses - Disc: 0.4927, Gen: 10.5039\n",
            "Epoch 171/200\n"
          ]
        },
        {
          "name": "stderr",
          "output_type": "stream",
          "text": [
            "100%|██████████| 379/379 [02:10<00:00,  2.90it/s, D_fake=0.318, D_real=0.742]\n"
          ]
        },
        {
          "name": "stdout",
          "output_type": "stream",
          "text": [
            "Returned losses - Disc: 0.4756, Gen: 10.5809\n",
            "=> Saving checkpoint\n",
            "=> Saving checkpoint\n",
            "Epoch 172/200\n"
          ]
        },
        {
          "name": "stderr",
          "output_type": "stream",
          "text": [
            "100%|██████████| 379/379 [02:12<00:00,  2.86it/s, D_fake=0.246, D_real=0.606]\n"
          ]
        },
        {
          "name": "stdout",
          "output_type": "stream",
          "text": [
            "Returned losses - Disc: 0.4751, Gen: 10.6096\n",
            "Epoch 173/200\n"
          ]
        },
        {
          "name": "stderr",
          "output_type": "stream",
          "text": [
            "100%|██████████| 379/379 [02:10<00:00,  2.91it/s, D_fake=0.342, D_real=0.603]\n"
          ]
        },
        {
          "name": "stdout",
          "output_type": "stream",
          "text": [
            "Returned losses - Disc: 0.4851, Gen: 10.6926\n",
            "Epoch 174/200\n"
          ]
        },
        {
          "name": "stderr",
          "output_type": "stream",
          "text": [
            "100%|██████████| 379/379 [02:10<00:00,  2.89it/s, D_fake=0.318, D_real=0.573]\n"
          ]
        },
        {
          "name": "stdout",
          "output_type": "stream",
          "text": [
            "Returned losses - Disc: 0.4783, Gen: 10.7051\n",
            "Epoch 175/200\n"
          ]
        },
        {
          "name": "stderr",
          "output_type": "stream",
          "text": [
            "100%|██████████| 379/379 [02:11<00:00,  2.89it/s, D_fake=0.255, D_real=0.763]\n"
          ]
        },
        {
          "name": "stdout",
          "output_type": "stream",
          "text": [
            "Returned losses - Disc: 0.4756, Gen: 10.6082\n",
            "Epoch 176/200\n"
          ]
        },
        {
          "name": "stderr",
          "output_type": "stream",
          "text": [
            "100%|██████████| 379/379 [02:10<00:00,  2.91it/s, D_fake=0.257, D_real=0.544]\n"
          ]
        },
        {
          "name": "stdout",
          "output_type": "stream",
          "text": [
            "Returned losses - Disc: 0.4701, Gen: 10.5982\n",
            "=> Saving checkpoint\n",
            "=> Saving checkpoint\n",
            "Epoch 177/200\n"
          ]
        },
        {
          "name": "stderr",
          "output_type": "stream",
          "text": [
            "100%|██████████| 379/379 [02:12<00:00,  2.86it/s, D_fake=0.377, D_real=0.446]\n"
          ]
        },
        {
          "name": "stdout",
          "output_type": "stream",
          "text": [
            "Returned losses - Disc: 0.4847, Gen: 10.6451\n",
            "Epoch 178/200\n"
          ]
        },
        {
          "name": "stderr",
          "output_type": "stream",
          "text": [
            "100%|██████████| 379/379 [02:09<00:00,  2.92it/s, D_fake=0.281, D_real=0.704]\n"
          ]
        },
        {
          "name": "stdout",
          "output_type": "stream",
          "text": [
            "Returned losses - Disc: 0.4647, Gen: 10.6538\n",
            "Epoch 179/200\n"
          ]
        },
        {
          "name": "stderr",
          "output_type": "stream",
          "text": [
            "100%|██████████| 379/379 [02:10<00:00,  2.90it/s, D_fake=0.362, D_real=0.581]\n"
          ]
        },
        {
          "name": "stdout",
          "output_type": "stream",
          "text": [
            "Returned losses - Disc: 0.4674, Gen: 10.6693\n",
            "Epoch 180/200\n"
          ]
        },
        {
          "name": "stderr",
          "output_type": "stream",
          "text": [
            "100%|██████████| 379/379 [02:10<00:00,  2.91it/s, D_fake=0.184, D_real=0.674]\n"
          ]
        },
        {
          "name": "stdout",
          "output_type": "stream",
          "text": [
            "Returned losses - Disc: 0.4638, Gen: 10.6952\n",
            "Epoch 181/200\n"
          ]
        },
        {
          "name": "stderr",
          "output_type": "stream",
          "text": [
            "100%|██████████| 379/379 [02:10<00:00,  2.91it/s, D_fake=0.322, D_real=0.684]\n"
          ]
        },
        {
          "name": "stdout",
          "output_type": "stream",
          "text": [
            "Returned losses - Disc: 0.4792, Gen: 10.4842\n",
            "=> Saving checkpoint\n",
            "=> Saving checkpoint\n",
            "Epoch 182/200\n"
          ]
        },
        {
          "name": "stderr",
          "output_type": "stream",
          "text": [
            "100%|██████████| 379/379 [02:12<00:00,  2.86it/s, D_fake=0.325, D_real=0.689]\n"
          ]
        },
        {
          "name": "stdout",
          "output_type": "stream",
          "text": [
            "Returned losses - Disc: 0.4719, Gen: 10.5844\n",
            "Epoch 183/200\n"
          ]
        },
        {
          "name": "stderr",
          "output_type": "stream",
          "text": [
            "100%|██████████| 379/379 [02:10<00:00,  2.90it/s, D_fake=0.188, D_real=0.79]\n"
          ]
        },
        {
          "name": "stdout",
          "output_type": "stream",
          "text": [
            "Returned losses - Disc: 0.4425, Gen: 10.5551\n",
            "Epoch 184/200\n"
          ]
        },
        {
          "name": "stderr",
          "output_type": "stream",
          "text": [
            "100%|██████████| 379/379 [02:10<00:00,  2.90it/s, D_fake=0.256, D_real=0.693]\n"
          ]
        },
        {
          "name": "stdout",
          "output_type": "stream",
          "text": [
            "Returned losses - Disc: 0.4925, Gen: 10.5995\n",
            "Epoch 185/200\n"
          ]
        },
        {
          "name": "stderr",
          "output_type": "stream",
          "text": [
            "100%|██████████| 379/379 [02:09<00:00,  2.92it/s, D_fake=0.181, D_real=0.855]\n"
          ]
        },
        {
          "name": "stdout",
          "output_type": "stream",
          "text": [
            "Returned losses - Disc: 0.4487, Gen: 10.4987\n",
            "Epoch 186/200\n"
          ]
        },
        {
          "name": "stderr",
          "output_type": "stream",
          "text": [
            "100%|██████████| 379/379 [02:10<00:00,  2.90it/s, D_fake=0.348, D_real=0.678]\n"
          ]
        },
        {
          "name": "stdout",
          "output_type": "stream",
          "text": [
            "Returned losses - Disc: 0.4405, Gen: 10.8284\n",
            "=> Saving checkpoint\n",
            "=> Saving checkpoint\n",
            "Epoch 187/200\n"
          ]
        },
        {
          "name": "stderr",
          "output_type": "stream",
          "text": [
            "100%|██████████| 379/379 [02:12<00:00,  2.85it/s, D_fake=0.257, D_real=0.797]\n"
          ]
        },
        {
          "name": "stdout",
          "output_type": "stream",
          "text": [
            "Returned losses - Disc: 0.4686, Gen: 10.6709\n",
            "Epoch 188/200\n"
          ]
        },
        {
          "name": "stderr",
          "output_type": "stream",
          "text": [
            "100%|██████████| 379/379 [02:10<00:00,  2.90it/s, D_fake=0.19, D_real=0.724]\n"
          ]
        },
        {
          "name": "stdout",
          "output_type": "stream",
          "text": [
            "Returned losses - Disc: 0.4502, Gen: 10.6126\n",
            "Epoch 189/200\n"
          ]
        },
        {
          "name": "stderr",
          "output_type": "stream",
          "text": [
            "100%|██████████| 379/379 [02:10<00:00,  2.90it/s, D_fake=0.162, D_real=0.878]\n"
          ]
        },
        {
          "name": "stdout",
          "output_type": "stream",
          "text": [
            "Returned losses - Disc: 0.4716, Gen: 10.5830\n",
            "Epoch 190/200\n"
          ]
        },
        {
          "name": "stderr",
          "output_type": "stream",
          "text": [
            "100%|██████████| 379/379 [02:11<00:00,  2.87it/s, D_fake=0.263, D_real=0.646]\n"
          ]
        },
        {
          "name": "stdout",
          "output_type": "stream",
          "text": [
            "Returned losses - Disc: 0.4404, Gen: 10.6029\n",
            "Epoch 191/200\n"
          ]
        },
        {
          "name": "stderr",
          "output_type": "stream",
          "text": [
            "100%|██████████| 379/379 [02:12<00:00,  2.87it/s, D_fake=0.234, D_real=0.645]\n"
          ]
        },
        {
          "name": "stdout",
          "output_type": "stream",
          "text": [
            "Returned losses - Disc: 0.4476, Gen: 10.6490\n",
            "=> Saving checkpoint\n",
            "=> Saving checkpoint\n",
            "Epoch 192/200\n"
          ]
        },
        {
          "name": "stderr",
          "output_type": "stream",
          "text": [
            "100%|██████████| 379/379 [02:13<00:00,  2.85it/s, D_fake=0.164, D_real=0.784]\n"
          ]
        },
        {
          "name": "stdout",
          "output_type": "stream",
          "text": [
            "Returned losses - Disc: 0.5085, Gen: 10.4287\n",
            "Epoch 193/200\n"
          ]
        },
        {
          "name": "stderr",
          "output_type": "stream",
          "text": [
            "100%|██████████| 379/379 [02:10<00:00,  2.91it/s, D_fake=0.2, D_real=0.723]\n"
          ]
        },
        {
          "name": "stdout",
          "output_type": "stream",
          "text": [
            "Returned losses - Disc: 0.3986, Gen: 10.8884\n",
            "Epoch 194/200\n"
          ]
        },
        {
          "name": "stderr",
          "output_type": "stream",
          "text": [
            "100%|██████████| 379/379 [02:11<00:00,  2.88it/s, D_fake=0.291, D_real=0.362]\n"
          ]
        },
        {
          "name": "stdout",
          "output_type": "stream",
          "text": [
            "Returned losses - Disc: 0.4485, Gen: 10.6083\n",
            "Epoch 195/200\n"
          ]
        },
        {
          "name": "stderr",
          "output_type": "stream",
          "text": [
            "100%|██████████| 379/379 [02:09<00:00,  2.92it/s, D_fake=0.115, D_real=0.932]\n"
          ]
        },
        {
          "name": "stdout",
          "output_type": "stream",
          "text": [
            "Returned losses - Disc: 0.4934, Gen: 10.5737\n",
            "Epoch 196/200\n"
          ]
        },
        {
          "name": "stderr",
          "output_type": "stream",
          "text": [
            "100%|██████████| 379/379 [02:11<00:00,  2.89it/s, D_fake=0.374, D_real=0.702]\n"
          ]
        },
        {
          "name": "stdout",
          "output_type": "stream",
          "text": [
            "Returned losses - Disc: 0.4736, Gen: 10.5036\n",
            "=> Saving checkpoint\n",
            "=> Saving checkpoint\n",
            "Epoch 197/200\n"
          ]
        },
        {
          "name": "stderr",
          "output_type": "stream",
          "text": [
            "100%|██████████| 379/379 [02:12<00:00,  2.85it/s, D_fake=0.396, D_real=0.553]\n"
          ]
        },
        {
          "name": "stdout",
          "output_type": "stream",
          "text": [
            "Returned losses - Disc: 0.4119, Gen: 10.6982\n",
            "Epoch 198/200\n"
          ]
        },
        {
          "name": "stderr",
          "output_type": "stream",
          "text": [
            "100%|██████████| 379/379 [02:11<00:00,  2.88it/s, D_fake=0.464, D_real=0.559]\n"
          ]
        },
        {
          "name": "stdout",
          "output_type": "stream",
          "text": [
            "Returned losses - Disc: 0.4339, Gen: 10.7412\n",
            "Epoch 199/200\n"
          ]
        },
        {
          "name": "stderr",
          "output_type": "stream",
          "text": [
            "100%|██████████| 379/379 [02:11<00:00,  2.89it/s, D_fake=0.259, D_real=0.661]\n"
          ]
        },
        {
          "name": "stdout",
          "output_type": "stream",
          "text": [
            "Returned losses - Disc: 0.4333, Gen: 10.8863\n",
            "Epoch 200/200\n"
          ]
        },
        {
          "name": "stderr",
          "output_type": "stream",
          "text": [
            "100%|██████████| 379/379 [02:10<00:00,  2.91it/s, D_fake=0.188, D_real=0.69]\n"
          ]
        },
        {
          "name": "stdout",
          "output_type": "stream",
          "text": [
            "Returned losses - Disc: 0.4164, Gen: 11.0039\n"
          ]
        },
        {
          "data": {
            "image/png": "[encoded data removed]",
            "text/plain": [
              "<Figure size 640x480 with 1 Axes>"
            ]
          },
          "metadata": {},
          "output_type": "display_data"
        }
      ],
      "source": [
        "%cd /content/drive/MyDrive/ProjeDosyalari/Elevate3D/src/training/rgb2dsm"
      ]
    },
    {
      "cell_type": "code",
      "execution_count": null,
      "metadata": {},
      "outputs": [],
      "source": [
        "!python train.py --train_dir \"/content/drive/MyDrive/ProjeDosyalari/rgb2dsm/data/train\" --val_dir \"/content/drive/MyDrive/ProjeDosyalari/rgb2dsm/data/val\""
      ]
    }
  ],
  "metadata": {
    "accelerator": "GPU",
    "colab": {
      "gpuType": "T4",
      "provenance": []
    },
    "kernelspec": {
      "display_name": "Python 3",
      "name": "python3"
    },
    "language_info": {
      "name": "python"
    }
  },
  "nbformat": 4,
  "nbformat_minor": 0
}
