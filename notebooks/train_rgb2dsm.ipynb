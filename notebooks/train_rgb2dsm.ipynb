{
  "cells": [
    {
      "cell_type": "code",
      "execution_count": 7,
      "metadata": {
        "colab": {
          "base_uri": "https://localhost:8080/"
        },
        "id": "oUZvn6O657Qz",
        "outputId": "b5529284-09c3-4e6e-fd65-f332b459cee7"
      },
      "outputs": [
        {
          "name": "stdout",
          "output_type": "stream",
          "text": [
            "Drive already mounted at /content/drive; to attempt to forcibly remount, call drive.mount(\"/content/drive\", force_remount=True).\n"
          ]
        }
      ],
      "source": [
        "from google.colab import drive\n",
        "drive.mount('/content/drive')"
      ]
    },
    {
      "cell_type": "code",
      "execution_count": 8,
      "metadata": {
        "colab": {
          "base_uri": "https://localhost:8080/"
        },
        "id": "wRUhPFAIwRIo",
        "outputId": "f18b1321-d2a9-4524-ead1-94a5178843c0"
      },
      "outputs": [
        {
          "name": "stdout",
          "output_type": "stream",
          "text": [
            "/content/drive/MyDrive/ProjeDosyalari/Elevate3D\n"
          ]
        }
      ],
      "source": [
        "%cd /content/drive/MyDrive/ProjeDosyalari/Elevate3D/"
      ]
    },
    {
      "cell_type": "code",
      "execution_count": 9,
      "metadata": {
        "colab": {
          "base_uri": "https://localhost:8080/"
        },
        "id": "DdmlxXAZwRIr",
        "outputId": "27d3167c-2698-4e70-ac07-b53f81c818a1"
      },
      "outputs": [
        {
          "name": "stdout",
          "output_type": "stream",
          "text": [
            "From https://github.com/krdgomer/Elevate3D\n",
            " * branch            main       -> FETCH_HEAD\n",
            "Already up to date.\n"
          ]
        }
      ],
      "source": [
        "!git pull origin main"
      ]
    },
    {
      "cell_type": "code",
      "execution_count": 11,
      "metadata": {
        "colab": {
          "base_uri": "https://localhost:8080/"
        },
        "id": "wItIQRZyorIa",
        "outputId": "e5b41723-6bc9-47fe-cd33-1bb669efe34b"
      },
      "outputs": [
        {
          "name": "stdout",
          "output_type": "stream",
          "text": [
            "/content/drive/MyDrive/ProjeDosyalari/Elevate3D\n"
          ]
        }
      ],
      "source": [
        "import os\n",
        "print(os.getcwd())"
      ]
    },
    {
      "cell_type": "code",
      "execution_count": 12,
      "metadata": {
        "id": "Pbf-hNTRwRIt"
      },
      "outputs": [],
      "source": [
        "import sys\n",
        "sys.path.append('/content/drive/MyDrive/ProjeDosyalari/Elevate3D/src')\n",
        "sys.path.append('/content/drive/MyDrive/ProjeDosyalari/Elevate3D/src/training')"
      ]
    },
    {
      "cell_type": "code",
      "execution_count": null,
      "metadata": {
        "colab": {
          "base_uri": "https://localhost:8080/"
        },
        "id": "6PY4ANhbkf_z",
        "outputId": "2c25df7d-94a3-4158-fe0c-5f11e1de8540"
      },
      "outputs": [
        {
          "name": "stdout",
          "output_type": "stream",
          "text": [
            "/content/drive/MyDrive/ProjeDosyalari/Elevate3D\n",
            "/usr/local/lib/python3.11/dist-packages/albumentations/__init__.py:24: UserWarning: A new version of Albumentations is available: 2.0.3 (you have 1.4.20). Upgrade using: pip install -U albumentations. To disable automatic update checks, set the environment variable NO_ALBUMENTATIONS_UPDATE to 1.\n",
            "  check_for_updates()\n",
            "=> Loading checkpoint\n",
            "/content/drive/MyDrive/ProjeDosyalari/Elevate3D/src/utils/utils.py:34: FutureWarning: You are using `torch.load` with `weights_only=False` (the current default value), which uses the default pickle module implicitly. It is possible to construct malicious pickle data which will execute arbitrary code during unpickling (See https://github.com/pytorch/pytorch/blob/main/SECURITY.md#untrusted-models for more details). In a future release, the default value for `weights_only` will be flipped to `True`. This limits the functions that could be executed during unpickling. Arbitrary objects will no longer be allowed to be loaded via this mode unless they are explicitly allowlisted by the user via `torch.serialization.add_safe_globals`. We recommend you start setting `weights_only=True` for any use case where you don't have full control of the loaded file. Please open an issue on GitHub for any issues related to this experimental feature.\n",
            "  checkpoint = torch.load(checkpoint_file, map_location=config.DEVICE)\n",
            "=> Loading checkpoint\n",
            "/usr/local/lib/python3.11/dist-packages/torch/utils/data/dataloader.py:617: UserWarning: This DataLoader will create 4 worker processes in total. Our suggested max number of worker in current system is 2, which is smaller than what this DataLoader is going to create. Please be aware that excessive worker creation might get DataLoader running slow or even freeze, lower the worker number to avoid potential slowness/freeze if necessary.\n",
            "  warnings.warn(\n",
            "Epoch 1/500\n",
            "100% 196/196 [02:13<00:00,  1.47it/s, D_fake=0.294, D_real=0.694]\n",
            "Returned losses - Disc: 0.5705, Gen: 9.1107\n",
            "=> Saving checkpoint\n",
            "=> Saving checkpoint\n",
            "Validation loss decreased (inf --> 1785.689650).  Saving model ...\n",
            "Epoch 2/500\n",
            "100% 196/196 [01:41<00:00,  1.94it/s, D_fake=0.403, D_real=0.508]\n",
            "Returned losses - Disc: 0.5695, Gen: 9.0167\n",
            "Validation loss decreased (1785.689650 --> 1767.281581).  Saving model ...\n",
            "Epoch 3/500\n",
            "100% 196/196 [01:36<00:00,  2.03it/s, D_fake=0.463, D_real=0.65]\n",
            "Returned losses - Disc: 0.5677, Gen: 9.0581\n",
            "EarlyStopping counter: 1 out of 5\n",
            "Epoch 4/500\n",
            "100% 196/196 [01:38<00:00,  2.00it/s, D_fake=0.386, D_real=0.569]\n",
            "Returned losses - Disc: 0.5624, Gen: 8.9994\n",
            "Validation loss decreased (1767.281581 --> 1763.881709).  Saving model ...\n",
            "Epoch 5/500\n",
            "100% 196/196 [01:37<00:00,  2.01it/s, D_fake=0.477, D_real=0.568]\n",
            "Returned losses - Disc: 0.5652, Gen: 9.1144\n",
            "EarlyStopping counter: 1 out of 5\n",
            "Epoch 6/500\n",
            "100% 196/196 [01:36<00:00,  2.04it/s, D_fake=0.341, D_real=0.687]\n",
            "Returned losses - Disc: 0.5760, Gen: 8.9182\n",
            "=> Saving checkpoint\n",
            "=> Saving checkpoint\n",
            "Validation loss decreased (1763.881709 --> 1747.973262).  Saving model ...\n",
            "Epoch 7/500\n",
            "100% 196/196 [01:40<00:00,  1.96it/s, D_fake=0.319, D_real=0.697]\n",
            "Returned losses - Disc: 0.5686, Gen: 8.8883\n",
            "Validation loss decreased (1747.973262 --> 1742.110158).  Saving model ...\n",
            "Epoch 8/500\n",
            "100% 196/196 [01:36<00:00,  2.02it/s, D_fake=0.318, D_real=0.585]\n",
            "Returned losses - Disc: 0.5599, Gen: 8.8877\n",
            "Validation loss decreased (1742.110158 --> 1741.986694).  Saving model ...\n",
            "Epoch 9/500\n",
            "100% 196/196 [01:36<00:00,  2.03it/s, D_fake=0.425, D_real=0.579]\n",
            "Returned losses - Disc: 0.5710, Gen: 8.9434\n",
            "EarlyStopping counter: 1 out of 5\n",
            "Epoch 10/500\n",
            "100% 196/196 [01:36<00:00,  2.04it/s, D_fake=0.398, D_real=0.497]\n",
            "Returned losses - Disc: 0.5752, Gen: 8.6529\n",
            "Validation loss decreased (1741.986694 --> 1695.968347).  Saving model ...\n",
            "Epoch 11/500\n",
            "100% 196/196 [01:37<00:00,  2.01it/s, D_fake=0.275, D_real=0.675]\n",
            "Returned losses - Disc: 0.5675, Gen: 8.8502\n",
            "=> Saving checkpoint\n",
            "=> Saving checkpoint\n",
            "EarlyStopping counter: 1 out of 5\n",
            "Epoch 12/500\n",
            "100% 196/196 [01:39<00:00,  1.98it/s, D_fake=0.404, D_real=0.671]\n",
            "Returned losses - Disc: 0.5650, Gen: 8.8517\n",
            "EarlyStopping counter: 2 out of 5\n",
            "Epoch 13/500\n",
            "100% 196/196 [01:36<00:00,  2.03it/s, D_fake=0.354, D_real=0.554]\n",
            "Returned losses - Disc: 0.5661, Gen: 8.7451\n",
            "EarlyStopping counter: 3 out of 5\n",
            "Epoch 14/500\n",
            "100% 196/196 [01:35<00:00,  2.04it/s, D_fake=0.486, D_real=0.578]\n",
            "Returned losses - Disc: 0.5645, Gen: 8.8462\n",
            "EarlyStopping counter: 4 out of 5\n",
            "Epoch 15/500\n",
            "100% 196/196 [01:34<00:00,  2.07it/s, D_fake=0.296, D_real=0.669]\n",
            "Returned losses - Disc: 0.5733, Gen: 8.6553\n",
            "EarlyStopping counter: 5 out of 5\n",
            "Early stopping\n",
            "Figure(640x480)\n"
          ]
        }
      ],
      "source": [
        "%cd /content/drive/MyDrive/ProjeDosyalari/Elevate3D\n",
        "!python -m src.rgb2dsm.training.train --train_dir \"/content/drive/MyDrive/ProjeDosyalari/rgb2dsm/data/train\" --val_dir \"/content/drive/MyDrive/ProjeDosyalari/rgb2dsm/data/validation\""
      ]
    }
  ],
  "metadata": {
    "accelerator": "GPU",
    "colab": {
      "gpuType": "T4",
      "provenance": []
    },
    "kernelspec": {
      "display_name": "Python 3",
      "name": "python3"
    },
    "language_info": {
      "name": "python"
    }
  },
  "nbformat": 4,
  "nbformat_minor": 0
}
